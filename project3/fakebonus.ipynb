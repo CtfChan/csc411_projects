{
 "cells": [
  {
   "cell_type": "markdown",
   "metadata": {},
   "source": [
    "# CSC411 Project 3"
   ]
  },
  {
   "cell_type": "markdown",
   "metadata": {},
   "source": [
    "## Part 1 Preparation of data"
   ]
  },
  {
   "cell_type": "code",
   "execution_count": 1,
   "metadata": {
    "collapsed": true
   },
   "outputs": [],
   "source": [
    "import random\n",
    "import numpy as np\n",
    "import math"
   ]
  },
  {
   "cell_type": "code",
   "execution_count": 2,
   "metadata": {
    "collapsed": true
   },
   "outputs": [],
   "source": [
    "#prepare datasets\n",
    "#designate 0 = fake, 1 = real for our labels\n",
    "\n",
    "fake_data = \"clean_fake.txt\"\n",
    "real_data = \"clean_real.txt\"\n",
    "\n",
    "fake = []\n",
    "for line in open(fake_data):\n",
    "    l = line.rstrip('\\n').split()\n",
    "    fake.append(l)\n",
    "    \n",
    "real = []\n",
    "for line in open(real_data):\n",
    "    l = line.rstrip('\\n').split()\n",
    "    real.append(l)\n",
    "    \n",
    "random.seed(1)\n",
    "random.shuffle(fake)\n",
    "random.seed(1)\n",
    "random.shuffle(real)\n",
    "\n",
    "train_set, valid_set, test_set = [], [], []\n",
    "train_label, valid_label, test_label = [], [], []\n",
    "\n",
    "for i in range(len(fake)):\n",
    "    if i < 0.7*len(fake):\n",
    "        train_set.append(fake[i])\n",
    "        train_label.append(0)\n",
    "    elif i < 0.85*len(fake):\n",
    "        valid_set.append(fake[i])\n",
    "        valid_label.append(0)\n",
    "    else:\n",
    "        test_set.append(fake[i])\n",
    "        test_label.append(0)\n",
    "\n",
    "for i in range(len(real)):\n",
    "    if i < 0.7*len(real):\n",
    "        train_set.append(real[i])\n",
    "        train_label.append(1)\n",
    "    elif i < 0.85*len(real):\n",
    "        valid_set.append(real[i])\n",
    "        valid_label.append(1)\n",
    "    else:\n",
    "        test_set.append(real[i])\n",
    "        test_label.append(1)"
   ]
  },
  {
   "cell_type": "code",
   "execution_count": 3,
   "metadata": {},
   "outputs": [
    {
     "name": "stdout",
     "output_type": "stream",
     "text": [
      "0.700244947949\n",
      "0.150030618494\n",
      "0.149724433558\n"
     ]
    }
   ],
   "source": [
    "#check compositions\n",
    "sum = len(train_set) + len(valid_set) + len(test_set)\n",
    "print len(train_set) / float(sum)\n",
    "print len(valid_set) / float(sum)\n",
    "print len(test_set) / float(sum)\n"
   ]
  },
  {
   "cell_type": "code",
   "execution_count": 5,
   "metadata": {
    "collapsed": true
   },
   "outputs": [],
   "source": [
    "#construct word frequency dictionary, \n",
    "#word_freq = {some_word, (num_label=0, num_label=1)}\n",
    "word_freq = {}\n",
    "for i in range(len(train_set)):\n",
    "    unique_words = set(train_set[i])\n",
    "    for word in unique_words:\n",
    "        if word in word_freq:\n",
    "            if train_label[i] == 0: \n",
    "                word_freq[word] = (word_freq[word][0]+1, word_freq[word][1])\n",
    "            elif train_label[i] == 1: \n",
    "                word_freq[word] = (word_freq[word][0], word_freq[word][1]+1)\n",
    "        else:\n",
    "            if train_label[i] == 0: \n",
    "                word_freq[word] = (1, 0)\n",
    "            elif train_label[i] == 1: \n",
    "                word_freq[word] = (0, 1)\n"
   ]
  },
  {
   "cell_type": "code",
   "execution_count": 6,
   "metadata": {
    "collapsed": true
   },
   "outputs": [],
   "source": [
    "#extract all prob_wi_g_fake, prob_wi_g_real\n",
    "word_freq_list = word_freq.items()\n",
    "\n",
    "#define hyperparameters\n",
    "# m = 4.556423559251676\n",
    "# p_hat = 0.05764749575838839\n",
    "m = 0.0\n",
    "p_hat = 0.0\n",
    "\n",
    "#count number of fake instances\n",
    "num_fake = train_label.count(0)\n",
    "num_real = train_label.count(1)\n",
    "\n",
    "prob_real = num_real / float(num_fake+num_real)\n",
    "prob_fake = num_fake / float(num_fake+num_real)\n",
    "\n",
    "#get prob of w_is given fake or real news\n",
    "prob_w_g_fake = []\n",
    "prob_w_g_real = []\n",
    "words = []\n",
    "not_prob_w_g_fake = []\n",
    "not_prob_w_g_real = []\n",
    "for word, freq in word_freq.iteritems():\n",
    "    words.append(word)\n",
    "    prob_w_g_fake.append((freq[0] + m*p_hat) / (num_fake + m))\n",
    "    prob_w_g_real.append((freq[1] + m*p_hat) / (num_real + m))\n",
    "    not_prob_w_g_fake.append(1 - ((freq[0] + m*p_hat) / (num_fake + m)))  \n",
    "    not_prob_w_g_real.append(1 - (freq[1] + m*p_hat) / (num_real + m))\n"
   ]
  },
  {
   "cell_type": "markdown",
   "metadata": {},
   "source": [
    "Neural Network Spam Classifier"
   ]
  },
  {
   "cell_type": "code",
   "execution_count": 7,
   "metadata": {
    "collapsed": true
   },
   "outputs": [],
   "source": [
    "#convert differents sets into vectors\n",
    "\n",
    "#construct dictionary with each word having a unique label\n",
    "word_dict = {}\n",
    "i = 0\n",
    "all_sets = train_set + valid_set + test_set\n",
    "for sentence in all_sets:\n",
    "    for word in sentence:\n",
    "        if word not in word_dict:\n",
    "            word_dict[word] = i\n",
    "            i += 1\n",
    "\n",
    "#convert each set to np matrices and vectors\n",
    "def convert_to_mat(my_set, my_label, word_dict):\n",
    "    num_unique_words = len(word_dict)\n",
    "    mat_set = np.zeros((len(my_set), num_unique_words))\n",
    "    vec_label = np.asarray(my_label).reshape((len(my_label),1))\n",
    "    not_vec_label = 1 - vec_label\n",
    "    vec_label = np.hstack((not_vec_label,vec_label))\n",
    "    \n",
    "    for i in range(len(my_set)):\n",
    "        for word in my_set[i]:\n",
    "            mat_set[i][word_dict[word]] = 1\n",
    "            \n",
    "    return mat_set, vec_label\n",
    "        "
   ]
  },
  {
   "cell_type": "code",
   "execution_count": 8,
   "metadata": {},
   "outputs": [
    {
     "name": "stdout",
     "output_type": "stream",
     "text": [
      "(2287, 5832)\n",
      "(2287, 2)\n",
      "(490, 5832)\n",
      "(490, 2)\n",
      "(489, 5832)\n",
      "(489, 2)\n"
     ]
    }
   ],
   "source": [
    "x_train, y_train = convert_to_mat(train_set, train_label, word_dict)\n",
    "x_valid, y_valid = convert_to_mat(valid_set, valid_label, word_dict)\n",
    "x_test, y_test = convert_to_mat(test_set, test_label, word_dict)\n",
    "print x_train.shape\n",
    "print y_train.shape\n",
    "print x_valid.shape\n",
    "print y_valid.shape\n",
    "print x_test.shape\n",
    "print y_test.shape"
   ]
  },
  {
   "cell_type": "code",
   "execution_count": 9,
   "metadata": {
    "collapsed": true
   },
   "outputs": [],
   "source": [
    "import torch\n",
    "import torch.nn as nn\n",
    "import torchvision.transforms as transforms\n",
    "from torch.autograd import Variable\n",
    "import matplotlib.pyplot as plt\n"
   ]
  },
  {
   "cell_type": "code",
   "execution_count": 10,
   "metadata": {
    "collapsed": true
   },
   "outputs": [],
   "source": [
    "# Define Model\n",
    "class LogisticRegression(nn.Module):\n",
    "    def __init__(self, input_size, num_classes):\n",
    "        super(LogisticRegression, self).__init__()\n",
    "        self.linear1 = nn.Linear(input_size, 30)\n",
    "        self.linear2 = nn.Linear(30, 100)\n",
    "        self.linear3 = nn.Linear(100, num_classes)\n",
    "    \n",
    "    def forward(self, x):\n",
    "        h_relu1 = self.linear1(x).clamp(min=0)\n",
    "        h_relu2 = self.linear2(h_relu1).clamp(min=0)\n",
    "        y_pred = self.linear3(h_relu2)\n",
    "        return y_pred"
   ]
  },
  {
   "cell_type": "code",
   "execution_count": 11,
   "metadata": {
    "collapsed": true
   },
   "outputs": [],
   "source": [
    "def LR_model_L2(x_train, y_train, x_valid, y_valid, word_dict, reg_term=0.01):\n",
    "    # Hyper Parameters \n",
    "    input_size = len(word_dict)\n",
    "    num_classes = 2\n",
    "    num_epochs = 500\n",
    "    learning_rate = 0.001\n",
    "\n",
    "    model_L2 = LogisticRegression(input_size, num_classes)\n",
    "\n",
    "    x = Variable(torch.from_numpy(x_train), requires_grad=False).type(torch.FloatTensor)\n",
    "    y = Variable(torch.from_numpy(np.argmax(y_train, 1)), requires_grad=False).type(torch.LongTensor)\n",
    "\n",
    "    loss_fn = nn.CrossEntropyLoss()  \n",
    "    #apply built-in L2 regularization \n",
    "    optimizer = torch.optim.Adam(model_L2.parameters(), lr=learning_rate, weight_decay=reg_term) \n",
    "    \n",
    "    train_perf_list = []\n",
    "    valid_perf_list = []\n",
    "    epoch_list = []\n",
    "\n",
    "    for epoch in range(num_epochs+1):\n",
    "\n",
    "        optimizer.zero_grad()\n",
    "        outputs = model_L2(x)\n",
    "        loss = loss_fn(outputs, y)\n",
    "        loss.backward()\n",
    "        optimizer.step()\n",
    "        \n",
    "        if epoch % 50 == 0:\n",
    "            #Print epoch\n",
    "            print 'Epoch: [{}/{}]'.format(epoch, num_epochs)\n",
    "\n",
    "            training_input = Variable(torch.from_numpy(x_train), requires_grad=False).type(torch.FloatTensor)\n",
    "            prediction = model_L2(training_input).data.numpy()\n",
    "            train_performance = (np.mean(np.argmax(prediction, 1) == np.argmax(y_train, 1)))\n",
    "           \n",
    "            valid_input = Variable(torch.from_numpy(x_valid), requires_grad=False).type(torch.FloatTensor)\n",
    "            prediction = model_L2(valid_input).data.numpy()\n",
    "            valid_performance = (np.mean(np.argmax(prediction, 1) == np.argmax(y_valid, 1))) \n",
    "        \n",
    "        \n",
    "            print \"Training Set Performance: {}\".format(train_performance)\n",
    "            print \"Validation Set Performance: {}\".format(valid_performance)\n",
    "            train_perf_list.append(train_performance)\n",
    "            valid_perf_list.append(valid_performance)\n",
    "            epoch_list.append(epoch)\n",
    "            \n",
    "    #plot the curves\n",
    "    plt.plot(epoch_list, train_perf_list, label='Training Set')\n",
    "    plt.plot(epoch_list, valid_perf_list, label='Validation Set')\n",
    "    plt.title('Set Performance vs. Number of Iterations')\n",
    "    plt.xlabel('Number of Iterations')\n",
    "    plt.ylabel('Set Performance')\n",
    "    plt.legend()\n",
    "    plt.show()\n",
    "\n",
    "    return model_L2"
   ]
  },
  {
   "cell_type": "code",
   "execution_count": 11,
   "metadata": {},
   "outputs": [
    {
     "name": "stdout",
     "output_type": "stream",
     "text": [
      "Epoch: [0/500]\n",
      "Training Set Performance: 0.602536073459\n",
      "Validation Set Performance: 0.602040816327\n",
      "Epoch: [50/500]\n",
      "Training Set Performance: 0.932225623087\n",
      "Validation Set Performance: 0.826530612245\n",
      "Epoch: [100/500]\n",
      "Training Set Performance: 0.990380411019\n",
      "Validation Set Performance: 0.830612244898\n",
      "Epoch: [150/500]\n",
      "Training Set Performance: 0.997813729777\n",
      "Validation Set Performance: 0.824489795918\n",
      "Epoch: [200/500]\n",
      "Training Set Performance: 0.999125491911\n",
      "Validation Set Performance: 0.816326530612\n",
      "Epoch: [250/500]\n",
      "Training Set Performance: 0.999562745955\n",
      "Validation Set Performance: 0.816326530612\n",
      "Epoch: [300/500]\n",
      "Training Set Performance: 0.999562745955\n",
      "Validation Set Performance: 0.816326530612\n",
      "Epoch: [350/500]\n",
      "Training Set Performance: 0.999562745955\n",
      "Validation Set Performance: 0.816326530612\n",
      "Epoch: [400/500]\n",
      "Training Set Performance: 0.999562745955\n",
      "Validation Set Performance: 0.816326530612\n",
      "Epoch: [450/500]\n",
      "Training Set Performance: 0.999562745955\n",
      "Validation Set Performance: 0.816326530612\n",
      "Epoch: [500/500]\n",
      "Training Set Performance: 0.999562745955\n",
      "Validation Set Performance: 0.818367346939\n"
     ]
    },
    {
     "data": {
      "image/png": "[encoded data removed]",
      "text/plain": [
       "<matplotlib.figure.Figure at 0x11c4db6d0>"
      ]
     },
     "metadata": {},
     "output_type": "display_data"
    }
   ],
   "source": [
    "#train the model \n",
    "model_L2 = LR_model_L2(x_train, y_train, x_valid, y_valid, word_dict, 0.01)"
   ]
  },
  {
   "cell_type": "code",
   "execution_count": 16,
   "metadata": {},
   "outputs": [
    {
     "name": "stdout",
     "output_type": "stream",
     "text": [
      "0.862985685072\n"
     ]
    }
   ],
   "source": [
    "#Test results\n",
    "test_input = Variable(torch.from_numpy(x_test), requires_grad=False).type(torch.FloatTensor)\n",
    "prediction = model_L2(test_input).data.numpy()\n",
    "test_performance = (np.mean(np.argmax(prediction, 1) == np.argmax(y_test, 1)))\n",
    "print(test_performance)"
   ]
  },
  {
   "cell_type": "markdown",
   "metadata": {},
   "source": [
    "Analyzing logistic regression results"
   ]
  },
  {
   "cell_type": "code",
   "execution_count": 13,
   "metadata": {
    "collapsed": true
   },
   "outputs": [],
   "source": [
    "#feed every word in word_dict into the network append activations to list called res\n",
    "res = []\n",
    "words = []\n",
    "length = len(word_dict.keys())\n",
    "for word in word_dict.keys():\n",
    "    x_test = np.eye(1,length, k = word_dict[word])\n",
    "    test_input = Variable(torch.from_numpy(x_test), requires_grad=False).type(torch.FloatTensor)\n",
    "    prediction = model_L2(test_input).data.numpy()    \n",
    "    words.append(word)\n",
    "    res.append(prediction[0])"
   ]
  },
  {
   "cell_type": "code",
   "execution_count": 14,
   "metadata": {},
   "outputs": [
    {
     "name": "stdout",
     "output_type": "stream",
     "text": [
      "['breaking', 'autistic', 'go', 'hillary', 'propaganda', 'won', 'watch', 'bored', 'victory', 'spy']\n",
      "['trumps', 'tax', 'australia', 'turnbull', 'accept', 'speaks', 'us', 'business', 'hacking', 'korea']\n"
     ]
    }
   ],
   "source": [
    "#max activation for fake\n",
    "max_activation_fake = sorted(zip(words, res), key = lambda pair: pair[1][0], reverse=True)[0:10]\n",
    "print [pair[0] for pair in max_activation_fake]\n",
    "\n",
    "#max activation for real\n",
    "max_activation_fake = sorted(zip(words, res), key = lambda pair: pair[1][1], reverse=True)[0:10]\n",
    "print [pair[0] for pair in max_activation_fake]\n"
   ]
  },
  {
   "cell_type": "code",
   "execution_count": 16,
   "metadata": {
    "collapsed": true
   },
   "outputs": [],
   "source": [
    "#saving the model\n",
    "torch.save(model_L2.state_dict(), 'weights')\n"
   ]
  },
  {
   "cell_type": "code",
   "execution_count": 15,
   "metadata": {
    "collapsed": true
   },
   "outputs": [],
   "source": [
    "#reload model\n",
    "input_size = 5832\n",
    "num_classes = 2\n",
    "model_L2 = LogisticRegression(input_size, num_classes)\n",
    "model_L2.load_state_dict(torch.load('weights'))\n"
   ]
  },
  {
   "cell_type": "code",
   "execution_count": 22,
   "metadata": {
    "collapsed": true
   },
   "outputs": [],
   "source": [
    "#save word_dict\n",
    "import pickle\n",
    "\n",
    "# Store data (serialize)\n",
    "with open('filename.pickle', 'wb') as handle:\n",
    "    pickle.dump(word_dict, handle, protocol=pickle.HIGHEST_PROTOCOL)\n",
    "\n"
   ]
  },
  {
   "cell_type": "code",
   "execution_count": 24,
   "metadata": {},
   "outputs": [
    {
     "data": {
      "text/plain": [
       "True"
      ]
     },
     "execution_count": 24,
     "metadata": {},
     "output_type": "execute_result"
    }
   ],
   "source": []
  },
  {
   "cell_type": "code",
   "execution_count": null,
   "metadata": {
    "collapsed": true
   },
   "outputs": [],
   "source": []
  }
 ],
 "metadata": {
  "kernelspec": {
   "display_name": "Python 2",
   "language": "python",
   "name": "python2"
  },
  "language_info": {
   "codemirror_mode": {
    "name": "ipython",
    "version": 2
   },
   "file_extension": ".py",
   "mimetype": "text/x-python",
   "name": "python",
   "nbconvert_exporter": "python",
   "pygments_lexer": "ipython2",
   "version": "2.7.14"
  }
 },
 "nbformat": 4,
 "nbformat_minor": 2
}
