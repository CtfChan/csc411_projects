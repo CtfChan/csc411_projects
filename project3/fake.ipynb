{
 "cells": [
  {
   "cell_type": "markdown",
   "metadata": {},
   "source": [
    "# CSC411 Project 3"
   ]
  },
  {
   "cell_type": "markdown",
   "metadata": {},
   "source": [
    "## Part 1 Preparation of data"
   ]
  },
  {
   "cell_type": "code",
   "execution_count": 1,
   "metadata": {
    "collapsed": true
   },
   "outputs": [],
   "source": [
    "import random\n",
    "import numpy as np\n",
    "import math"
   ]
  },
  {
   "cell_type": "code",
   "execution_count": 2,
   "metadata": {
    "collapsed": true
   },
   "outputs": [],
   "source": [
    "#prepare datasets\n",
    "#designate 0 = fake, 1 = real for our labels\n",
    "\n",
    "fake_data = \"clean_fake.txt\"\n",
    "real_data = \"clean_real.txt\"\n",
    "\n",
    "fake = []\n",
    "for line in open(fake_data):\n",
    "    l = line.rstrip('\\n').split()\n",
    "    fake.append(l)\n",
    "    \n",
    "real = []\n",
    "for line in open(real_data):\n",
    "    l = line.rstrip('\\n').split()\n",
    "    real.append(l)\n",
    "    \n",
    "random.seed(1)\n",
    "random.shuffle(fake)\n",
    "random.seed(1)\n",
    "random.shuffle(real)\n",
    "\n",
    "train_set, valid_set, test_set = [], [], []\n",
    "train_label, valid_label, test_label = [], [], []\n",
    "\n",
    "for i in range(len(fake)):\n",
    "    if i < 0.7*len(fake):\n",
    "        train_set.append(fake[i])\n",
    "        train_label.append(0)\n",
    "    elif i < 0.85*len(fake):\n",
    "        valid_set.append(fake[i])\n",
    "        valid_label.append(0)\n",
    "    else:\n",
    "        test_set.append(fake[i])\n",
    "        test_label.append(0)\n",
    "\n",
    "for i in range(len(real)):\n",
    "    if i < 0.7*len(real):\n",
    "        train_set.append(real[i])\n",
    "        train_label.append(1)\n",
    "    elif i < 0.85*len(real):\n",
    "        valid_set.append(real[i])\n",
    "        valid_label.append(1)\n",
    "    else:\n",
    "        test_set.append(real[i])\n",
    "        test_label.append(1)"
   ]
  },
  {
   "cell_type": "code",
   "execution_count": 3,
   "metadata": {},
   "outputs": [
    {
     "name": "stdout",
     "output_type": "stream",
     "text": [
      "0.700244947949\n",
      "0.150030618494\n",
      "0.149724433558\n"
     ]
    }
   ],
   "source": [
    "#check compositions\n",
    "sum = len(train_set) + len(valid_set) + len(test_set)\n",
    "print len(train_set) / float(sum)\n",
    "print len(valid_set) / float(sum)\n",
    "print len(test_set) / float(sum)\n"
   ]
  },
  {
   "cell_type": "code",
   "execution_count": 4,
   "metadata": {
    "collapsed": true
   },
   "outputs": [],
   "source": [
    "#construct word frequency dictionary, \n",
    "#word_freq = {some_word, (num_label=0, num_label=1)}\n",
    "word_freq = {}\n",
    "for i in range(len(train_set)):\n",
    "    unique_words = set(train_set[i])\n",
    "    for word in unique_words:\n",
    "        if word in word_freq:\n",
    "            if train_label[i] == 0: \n",
    "                word_freq[word] = (word_freq[word][0]+1, word_freq[word][1])\n",
    "            elif train_label[i] == 1: \n",
    "                word_freq[word] = (word_freq[word][0], word_freq[word][1]+1)\n",
    "        else:\n",
    "            if train_label[i] == 0: \n",
    "                word_freq[word] = (1, 0)\n",
    "            elif train_label[i] == 1: \n",
    "                word_freq[word] = (0, 1)\n"
   ]
  },
  {
   "cell_type": "code",
   "execution_count": 5,
   "metadata": {
    "collapsed": true
   },
   "outputs": [],
   "source": [
    "#extract all prob_wi_g_fake, prob_wi_g_real\n",
    "word_freq_list = word_freq.items()\n",
    "\n",
    "#define hyperparameters\n",
    "# m = 4.556423559251676\n",
    "# p_hat = 0.05764749575838839\n",
    "m = 0.0\n",
    "p_hat = 0.0\n",
    "\n",
    "#count number of fake instances\n",
    "num_fake = train_label.count(0)\n",
    "num_real = train_label.count(1)\n",
    "\n",
    "prob_real = num_real / float(num_fake+num_real)\n",
    "prob_fake = num_fake / float(num_fake+num_real)\n",
    "\n",
    "#get prob of w_is given fake or real news\n",
    "prob_w_g_fake = []\n",
    "prob_w_g_real = []\n",
    "words = []\n",
    "not_prob_w_g_fake = []\n",
    "not_prob_w_g_real = []\n",
    "for word, freq in word_freq.iteritems():\n",
    "    words.append(word)\n",
    "    prob_w_g_fake.append((freq[0] + m*p_hat) / (num_fake + m))\n",
    "    prob_w_g_real.append((freq[1] + m*p_hat) / (num_real + m))\n",
    "    not_prob_w_g_fake.append(1 - ((freq[0] + m*p_hat) / (num_fake + m)))  \n",
    "    not_prob_w_g_real.append(1 - (freq[1] + m*p_hat) / (num_real + m))\n"
   ]
  },
  {
   "cell_type": "code",
   "execution_count": 6,
   "metadata": {},
   "outputs": [
    {
     "data": {
      "text/plain": [
       "[('trump', 0.9900990099009901),\n",
       " ('to', 0.29812981298129815),\n",
       " ('the', 0.2717271727172717),\n",
       " ('donald', 0.18041804180418042),\n",
       " ('in', 0.1617161716171617),\n",
       " ('for', 0.1474147414741474),\n",
       " ('of', 0.14631463146314633),\n",
       " ('a', 0.1342134213421342),\n",
       " ('and', 0.13091309130913092),\n",
       " ('on', 0.12431243124312431)]"
      ]
     },
     "execution_count": 6,
     "metadata": {},
     "output_type": "execute_result"
    }
   ],
   "source": [
    "sorted(zip(words, prob_w_g_fake), key = lambda pair: pair[1], reverse=True)[:10]"
   ]
  },
  {
   "cell_type": "code",
   "execution_count": 7,
   "metadata": {},
   "outputs": [
    {
     "data": {
      "text/plain": [
       "[('trump', 0.8838896952104499),\n",
       " ('donald', 0.41654571843251087),\n",
       " ('to', 0.19666182873730043),\n",
       " ('on', 0.11538461538461539),\n",
       " ('us', 0.11248185776487664),\n",
       " ('trumps', 0.11103047895500726),\n",
       " ('in', 0.10304789550072568),\n",
       " ('for', 0.09216255442670537),\n",
       " ('of', 0.09216255442670537),\n",
       " ('says', 0.09143686502177069)]"
      ]
     },
     "execution_count": 7,
     "metadata": {},
     "output_type": "execute_result"
    }
   ],
   "source": [
    "sorted(zip(words, prob_w_g_real), key = lambda pair: pair[1], reverse=True)[:10]"
   ]
  },
  {
   "cell_type": "code",
   "execution_count": 8,
   "metadata": {},
   "outputs": [
    {
     "data": {
      "text/plain": [
       "[('trump', (900, 1218)),\n",
       " ('to', (271, 271)),\n",
       " ('the', (247, 104)),\n",
       " ('donald', (164, 574)),\n",
       " ('in', (147, 142)),\n",
       " ('for', (134, 127)),\n",
       " ('of', (133, 127)),\n",
       " ('a', (122, 72)),\n",
       " ('and', (119, 80)),\n",
       " ('on', (113, 159))]"
      ]
     },
     "execution_count": 8,
     "metadata": {},
     "output_type": "execute_result"
    }
   ],
   "source": [
    "#Count most frequently used words in fake news\n",
    "sorted(word_freq.iteritems(), key = lambda x: x[1][0], reverse=True)[:10]"
   ]
  },
  {
   "cell_type": "code",
   "execution_count": 9,
   "metadata": {},
   "outputs": [
    {
     "data": {
      "text/plain": [
       "[('trump', (900, 1218)),\n",
       " ('donald', (164, 574)),\n",
       " ('to', (271, 271)),\n",
       " ('on', (113, 159)),\n",
       " ('us', (27, 155)),\n",
       " ('trumps', (4, 153)),\n",
       " ('in', (147, 142)),\n",
       " ('for', (134, 127)),\n",
       " ('of', (133, 127)),\n",
       " ('says', (36, 126))]"
      ]
     },
     "execution_count": 9,
     "metadata": {},
     "output_type": "execute_result"
    }
   ],
   "source": [
    "#Count most frequently used words in real news\n",
    "sorted(word_freq.iteritems(), key = lambda x: x[1][1], reverse=True)[:10]"
   ]
  },
  {
   "cell_type": "code",
   "execution_count": 10,
   "metadata": {},
   "outputs": [
    {
     "name": "stdout",
     "output_type": "stream",
     "text": [
      "america\n",
      "0.047\n",
      "0.007\n",
      "====\n",
      "obama\n",
      "0.043\n",
      "0.016\n",
      "====\n",
      "turnbull\n",
      "0.0\n",
      "0.026\n",
      "====\n"
     ]
    }
   ],
   "source": [
    "#Finding P(word|spam) and P(word|not spam) for 'america', 'obama', 'turnbull'\n",
    "some_words = ['america', 'obama', 'turnbull']\n",
    "for word in some_words:\n",
    "    print word\n",
    "    word1 = words.index(word)\n",
    "    print round(prob_w_g_fake[word1],3)\n",
    "    print round(prob_w_g_real[word1],3)\n",
    "    print '===='"
   ]
  },
  {
   "cell_type": "markdown",
   "metadata": {},
   "source": [
    "## Part 2 Naive Bayes Classifier"
   ]
  },
  {
   "cell_type": "code",
   "execution_count": 11,
   "metadata": {
    "collapsed": true
   },
   "outputs": [],
   "source": [
    "def NB_classifier(train_set, train_label, word_freq, sentence, m, p_hat): \n",
    "    #count number of fake and real instances to compute prob_real and prob_fake\n",
    "    num_fake = train_label.count(0)\n",
    "    num_real = train_label.count(1)\n",
    "    prob_real = num_real / float(num_real + num_fake)\n",
    "    prob_fake = num_fake / float(num_real + num_fake)\n",
    " \n",
    "    #get prob of w_is given fake or real news\n",
    "    prob_w_g_fake = []\n",
    "    prob_w_g_real = []\n",
    "    for word, freq in word_freq.iteritems():\n",
    "        prob_wi_g_fake = (freq[0] + m*p_hat) / (num_fake + m)\n",
    "        prob_wi_g_real = (freq[1] + m*p_hat) / (num_real + m)\n",
    "        \n",
    "        if word in sentence:\n",
    "            prob_w_g_fake.append(prob_wi_g_fake)\n",
    "            prob_w_g_real.append(prob_wi_g_real)\n",
    "        else:\n",
    "            prob_w_g_fake.append(1.0-prob_wi_g_fake)\n",
    "            prob_w_g_real.append(1.0-prob_wi_g_real)\n",
    "    \n",
    "    prob_fake_g_sentence = np.exp(np.sum(np.log(prob_w_g_fake)))*prob_fake\n",
    "    prob_real_g_sentence = np.exp(np.sum(np.log(prob_w_g_real)))*prob_real\n",
    "    \n",
    "    if prob_fake_g_sentence > prob_real_g_sentence:\n",
    "        return 0\n",
    "    else:\n",
    "        return 1\n",
    "    \n",
    "def accuracy(train_set, train_label, word_freq, my_set, my_label, m=3.0, p_hat=0.1):     \n",
    "    correct = 0 \n",
    "    for i in range(len(my_set)) :\n",
    "        prediction = NB_classifier(train_set, train_label, word_freq, my_set[i], m, p_hat)\n",
    "        if prediction == my_label[i]:\n",
    "            correct +=1\n",
    "    \n",
    "    return float(correct) / float(len(my_set))\n",
    "    "
   ]
  },
  {
   "cell_type": "code",
   "execution_count": 12,
   "metadata": {},
   "outputs": [
    {
     "name": "stdout",
     "output_type": "stream",
     "text": [
      "(4.260942967639414, 0.15819176697626336, 0.8408163265306122)\n"
     ]
    }
   ],
   "source": [
    "#random search for hyperparameters\n",
    "trials = 40\n",
    "res = []\n",
    "random.seed(1)\n",
    "for t in range(trials):\n",
    "    m = random.uniform(0.5, 5.0)\n",
    "    phat = random.uniform(0.05, 0.3)\n",
    "    acc = accuracy(train_set, train_label, word_freq, valid_set, valid_label, m, phat)\n",
    "    res.append((m, phat, acc))\n",
    "print sorted(res, key = lambda x: x[2], reverse = True)[0]\n"
   ]
  },
  {
   "cell_type": "code",
   "execution_count": 13,
   "metadata": {},
   "outputs": [
    {
     "name": "stdout",
     "output_type": "stream",
     "text": [
      "0.840816326531\n"
     ]
    }
   ],
   "source": [
    "m = 4.260942967639414\n",
    "p_hat = 0.15819176697626336\n",
    "\n",
    "#Test classifier on validation set\n",
    "print(accuracy(train_set, train_label, word_freq, valid_set, valid_label, m , p_hat))"
   ]
  },
  {
   "cell_type": "code",
   "execution_count": 14,
   "metadata": {},
   "outputs": [
    {
     "name": "stdout",
     "output_type": "stream",
     "text": [
      "0.854805725971\n"
     ]
    }
   ],
   "source": [
    "#Test classifier on test set\n",
    "print(accuracy(train_set, train_label, word_freq, test_set, test_label, m , p_hat))"
   ]
  },
  {
   "cell_type": "code",
   "execution_count": 15,
   "metadata": {
    "scrolled": true
   },
   "outputs": [
    {
     "name": "stdout",
     "output_type": "stream",
     "text": [
      "0.946217752514\n"
     ]
    }
   ],
   "source": [
    "#Test classifier on training set\n",
    "print(accuracy(train_set, train_label, word_freq, train_set, train_label, m , p_hat))"
   ]
  },
  {
   "cell_type": "markdown",
   "metadata": {},
   "source": [
    "## Part 3\n",
    "Section A\n",
    "\n",
    "a.) List the 10 words whose presence most strongly predicts that the news is real.\n",
    "\n",
    "b.) List the 10 words whose absence most strongly predicts that the news is real.\n",
    "\n",
    "c.) List the 10 words whose presence most strongly predicts that the news is fake.\n",
    "\n",
    "d.) List the 10 words whose absence most strongly predicts that the news is fake."
   ]
  },
  {
   "cell_type": "code",
   "execution_count": 16,
   "metadata": {
    "collapsed": true
   },
   "outputs": [],
   "source": [
    "#redo part 1 using different m and p\n",
    "#extract all prob_wi_g_fake, prob_wi_g_real\n",
    "word_freq_list = word_freq.items()\n",
    "\n",
    "#define hyperparameters\n",
    "m = 4.556423559251676\n",
    "p_hat = 0.05764749575838839\n",
    "\n",
    "#count number of fake instances\n",
    "num_fake = train_label.count(0)\n",
    "num_real = train_label.count(1)\n",
    "\n",
    "prob_real = num_real / float(num_fake+num_real)\n",
    "prob_fake = num_fake / float(num_fake+num_real)\n",
    "\n",
    "#get prob of w_is given fake or real news\n",
    "prob_w_g_fake = []\n",
    "prob_w_g_real = []\n",
    "words = []\n",
    "not_prob_w_g_fake = []\n",
    "not_prob_w_g_real = []\n",
    "for word, freq in word_freq.iteritems():\n",
    "    words.append(word)\n",
    "    prob_w_g_fake.append((freq[0] + m*p_hat) / (num_fake + m))\n",
    "    prob_w_g_real.append((freq[1] + m*p_hat) / (num_real + m))\n",
    "    not_prob_w_g_fake.append(1 - ((freq[0] + m*p_hat) / (num_fake + m)))  \n",
    "    not_prob_w_g_real.append(1 - (freq[1] + m*p_hat) / (num_real + m))\n"
   ]
  },
  {
   "cell_type": "code",
   "execution_count": 17,
   "metadata": {
    "collapsed": true
   },
   "outputs": [],
   "source": [
    "prob_fake_g_w = []\n",
    "prob_real_g_w = []\n",
    "prob_fake_g_nw = []\n",
    "prob_real_g_nw = []\n",
    "\n",
    "for i, word in enumerate(words):\n",
    "    prob_fake_g_wi = (prob_w_g_fake[i]*prob_fake) / (prob_w_g_fake[i]*prob_fake + prob_w_g_real[i]*prob_real)\n",
    "    prob_real_g_wi = (prob_w_g_real[i]*prob_real) / (prob_w_g_fake[i]*prob_fake + prob_w_g_real[i]*prob_real)\n",
    "    prob_fake_g_nwi = (not_prob_w_g_fake[i]*prob_fake) / (not_prob_w_g_fake[i]*prob_fake + not_prob_w_g_real[i]*prob_real)\n",
    "    prob_real_g_nwi = (not_prob_w_g_real[i]*prob_real) / (not_prob_w_g_fake[i]*prob_fake + not_prob_w_g_real[i]*prob_real)\n",
    "\n",
    "    \n",
    "    prob_fake_g_w.append(prob_fake_g_wi)\n",
    "    prob_real_g_w.append(prob_real_g_wi)\n",
    "    \n",
    "    prob_fake_g_nw.append(prob_fake_g_nwi)\n",
    "    prob_real_g_nw.append(prob_real_g_nwi)\n",
    "    \n",
    "    \n",
    "    #P(word|real)*P(real)/(P(w|real)P(real)+P(w|fake)P(fake))\n",
    "#         prob_w_g_fake.append((freq[0] + m*p_hat) / (num_fake + m))\n",
    "#     prob_w_g_real.append((freq[1] + m*p_hat) / (num_real + m))\n",
    "#     not_prob_w_g_fake.append(1 - ((freq[0] + m*p_hat) / (num_fake + m)))  \n",
    "#     not_prob_w_g_real.append(1 - (freq[1] + m*p_hat) / (num_real + m))"
   ]
  },
  {
   "cell_type": "code",
   "execution_count": 18,
   "metadata": {
    "collapsed": true
   },
   "outputs": [],
   "source": [
    "part_a = sorted(zip(words,prob_real_g_w), key = lambda pair: pair[1], reverse=True)\n",
    "part_b = sorted(zip(words,prob_real_g_nw), key = lambda pair: pair[1], reverse=True)\n",
    "part_c = sorted(zip(words,prob_fake_g_w), key = lambda pair: pair[1], reverse=True)\n",
    "part_d = sorted(zip(words,prob_fake_g_nw), key = lambda pair: pair[1], reverse=True)"
   ]
  },
  {
   "cell_type": "code",
   "execution_count": 19,
   "metadata": {},
   "outputs": [
    {
     "name": "stdout",
     "output_type": "stream",
     "text": [
      "['korea', 'travel', 'turnbull', 'australia', 'trade', 'comments', 'tax', 'paris', 'debate', 'malcolm']\n"
     ]
    }
   ],
   "source": [
    "print [word for word, num in part_a[0:10]]"
   ]
  },
  {
   "cell_type": "code",
   "execution_count": 20,
   "metadata": {},
   "outputs": [
    {
     "name": "stdout",
     "output_type": "stream",
     "text": [
      "['trump', 'the', 'to', 'hillary', 'a', 'is', 'and', 'in', 'for', 'of']\n"
     ]
    }
   ],
   "source": [
    "print [word for word, num in part_b[0:10]]"
   ]
  },
  {
   "cell_type": "code",
   "execution_count": 21,
   "metadata": {},
   "outputs": [
    {
     "name": "stdout",
     "output_type": "stream",
     "text": [
      "['breaking', 'cnn', 'daily', 'won', '3', 'woman', 'soros', 'm', 'u', 'my']\n"
     ]
    }
   ],
   "source": [
    "print [word for word, num in part_c[0:10]]"
   ]
  },
  {
   "cell_type": "code",
   "execution_count": 22,
   "metadata": {},
   "outputs": [
    {
     "name": "stdout",
     "output_type": "stream",
     "text": [
      "['donald', 'trumps', 'us', 'says', 'north', 'korea', 'ban', 'travel', 'turnbull', 'wall']\n"
     ]
    }
   ],
   "source": [
    "print [word for word, num in part_d[0:10]]"
   ]
  },
  {
   "cell_type": "markdown",
   "metadata": {},
   "source": [
    "Section B: removing stopwords"
   ]
  },
  {
   "cell_type": "code",
   "execution_count": 23,
   "metadata": {
    "collapsed": true
   },
   "outputs": [],
   "source": [
    "from sklearn.feature_extraction.text import ENGLISH_STOP_WORDS"
   ]
  },
  {
   "cell_type": "code",
   "execution_count": 24,
   "metadata": {},
   "outputs": [
    {
     "name": "stdout",
     "output_type": "stream",
     "text": [
      "['korea', 'travel', 'turnbull', 'australia', 'trade', 'comments', 'tax', 'paris', 'debate', 'malcolm']\n"
     ]
    }
   ],
   "source": [
    "# 10 non-stopwords that most strongly predict that the news is real\n",
    "processed_part_a = []\n",
    "for pair in part_a:\n",
    "    if pair[0] not in ENGLISH_STOP_WORDS:\n",
    "        processed_part_a.append(pair)\n",
    "print [word for word, num in processed_part_a[:10]]"
   ]
  },
  {
   "cell_type": "code",
   "execution_count": 25,
   "metadata": {},
   "outputs": [
    {
     "name": "stdout",
     "output_type": "stream",
     "text": [
      "['breaking', 'cnn', 'daily', 'won', '3', 'woman', 'soros', 'm', 'u', 'fox']\n"
     ]
    }
   ],
   "source": [
    "# 10 non-stopwords that most strongly predict that the news is fake.\n",
    "processed_part_c = []\n",
    "for pair in part_c:\n",
    "    if pair[0] not in ENGLISH_STOP_WORDS:\n",
    "        processed_part_c.append(pair)\n",
    "print [word for word, num in processed_part_c[:10]]"
   ]
  },
  {
   "cell_type": "markdown",
   "metadata": {},
   "source": [
    "Section C: \n",
    "\n",
    "Why might it make sense to remove stop words when interpreting the model? Why might it make sense to keep stop words?\n",
    "\n",
    "Remove them because you cannot infer context from these words.\n",
    "\n",
    "You might want to keep them if your model's performance is aided by the stop words. For instance, an recurrent neural network might require some level of syntax understanding.\n"
   ]
  },
  {
   "cell_type": "markdown",
   "metadata": {},
   "source": [
    "## Part 4\n",
    "Logistic Regression Spam Classifier"
   ]
  },
  {
   "cell_type": "code",
   "execution_count": 26,
   "metadata": {
    "collapsed": true
   },
   "outputs": [],
   "source": [
    "#convert differents sets into vectors\n",
    "\n",
    "#construct dictionary with each word having a unique label\n",
    "word_dict = {}\n",
    "i = 0\n",
    "all_sets = train_set + valid_set + test_set\n",
    "for sentence in all_sets:\n",
    "    for word in sentence:\n",
    "        if word not in word_dict:\n",
    "            word_dict[word] = i\n",
    "            i += 1\n",
    "\n",
    "#convert each set to np matrices and vectors\n",
    "def convert_to_mat(my_set, my_label, word_dict):\n",
    "    num_unique_words = len(word_dict)\n",
    "    mat_set = np.zeros((len(my_set), num_unique_words))\n",
    "    vec_label = np.asarray(my_label).reshape((len(my_label),1))\n",
    "    not_vec_label = 1 - vec_label\n",
    "    vec_label = np.hstack((not_vec_label,vec_label))\n",
    "    \n",
    "    for i in range(len(my_set)):\n",
    "        for word in my_set[i]:\n",
    "            mat_set[i][word_dict[word]] = 1\n",
    "            \n",
    "    return mat_set, vec_label\n",
    "        "
   ]
  },
  {
   "cell_type": "code",
   "execution_count": 27,
   "metadata": {},
   "outputs": [
    {
     "name": "stdout",
     "output_type": "stream",
     "text": [
      "(2287, 5832)\n",
      "(2287, 2)\n",
      "(490, 5832)\n",
      "(490, 2)\n",
      "(489, 5832)\n",
      "(489, 2)\n"
     ]
    }
   ],
   "source": [
    "x_train, y_train = convert_to_mat(train_set, train_label, word_dict)\n",
    "x_valid, y_valid = convert_to_mat(valid_set, valid_label, word_dict)\n",
    "x_test, y_test = convert_to_mat(test_set, test_label, word_dict)\n",
    "print x_train.shape\n",
    "print y_train.shape\n",
    "print x_valid.shape\n",
    "print y_valid.shape\n",
    "print x_test.shape\n",
    "print y_test.shape"
   ]
  },
  {
   "cell_type": "code",
   "execution_count": 28,
   "metadata": {
    "collapsed": true
   },
   "outputs": [],
   "source": [
    "import torch\n",
    "import torch.nn as nn\n",
    "import torchvision.transforms as transforms\n",
    "from torch.autograd import Variable\n",
    "import matplotlib.pyplot as plt\n"
   ]
  },
  {
   "cell_type": "code",
   "execution_count": 29,
   "metadata": {
    "collapsed": true
   },
   "outputs": [],
   "source": [
    "# Define Model\n",
    "class LogisticRegression(nn.Module):\n",
    "    def __init__(self, input_size, num_classes):\n",
    "        super(LogisticRegression, self).__init__()\n",
    "        self.linear = nn.Linear(input_size, num_classes)\n",
    "    \n",
    "    def forward(self, x):\n",
    "        out = self.linear(x)\n",
    "        return out"
   ]
  },
  {
   "cell_type": "code",
   "execution_count": 30,
   "metadata": {
    "collapsed": true
   },
   "outputs": [],
   "source": [
    "def LR_model(x_train, y_train, x_valid, y_valid, word_dict,num_epochs = 700, learning_rate = 0.001 ):\n",
    "    # Hyper Parameters \n",
    "    input_size = len(word_dict)\n",
    "    num_classes = 2\n",
    "\n",
    "    model = LogisticRegression(input_size, num_classes)\n",
    "\n",
    "    x = Variable(torch.from_numpy(x_train), requires_grad=False).type(torch.FloatTensor)\n",
    "    y = Variable(torch.from_numpy(np.argmax(y_train, 1)), requires_grad=False).type(torch.LongTensor)\n",
    "\n",
    "    loss_fn = nn.CrossEntropyLoss()  \n",
    "    optimizer = torch.optim.Adam(model.parameters(), lr=learning_rate) \n",
    "    \n",
    "    train_perf_list = []\n",
    "    valid_perf_list = []\n",
    "    epoch_list = []\n",
    "\n",
    "    for epoch in range(num_epochs+1):\n",
    "\n",
    "        optimizer.zero_grad()\n",
    "        outputs = model(x)\n",
    "        loss = loss_fn(outputs, y)\n",
    "        loss.backward()\n",
    "        optimizer.step()\n",
    "        \n",
    "        if epoch % 50 == 0:\n",
    "            #Print epoch\n",
    "            print 'Epoch: [{}/{}]'.format(epoch, num_epochs)\n",
    "\n",
    "            training_input = Variable(torch.from_numpy(x_train), requires_grad=False).type(torch.FloatTensor)\n",
    "            prediction = model(training_input).data.numpy()            \n",
    "            train_performance = (np.mean(np.argmax(prediction, 1) == np.argmax(y_train, 1)))\n",
    "           \n",
    "            valid_input = Variable(torch.from_numpy(x_valid), requires_grad=False).type(torch.FloatTensor)\n",
    "            prediction = model(valid_input).data.numpy()\n",
    "            valid_performance = (np.mean(np.argmax(prediction, 1) == np.argmax(y_valid, 1))) \n",
    "        \n",
    "            print \"Training Set Performance: {}\".format(train_performance)\n",
    "            print \"Validation Set Performance: {}\".format(valid_performance)\n",
    "            train_perf_list.append(train_performance)\n",
    "            valid_perf_list.append(valid_performance)\n",
    "            epoch_list.append(epoch)\n",
    "            \n",
    "    #plot the curves\n",
    "    plt.plot(epoch_list, train_perf_list, label='Training Set')\n",
    "    plt.plot(epoch_list, valid_perf_list, label='Validation Set')\n",
    "    plt.title('Set Performance vs. Number of Iterations')\n",
    "    plt.xlabel('Number of Iterations')\n",
    "    plt.ylabel('Set Performance')\n",
    "    plt.legend()\n",
    "    plt.show()\n",
    "\n",
    "    return model"
   ]
  },
  {
   "cell_type": "code",
   "execution_count": 31,
   "metadata": {},
   "outputs": [
    {
     "name": "stdout",
     "output_type": "stream",
     "text": [
      "Epoch: [0/700]\n",
      "Training Set Performance: 0.663751639703\n",
      "Validation Set Performance: 0.624489795918\n",
      "Epoch: [50/700]\n",
      "Training Set Performance: 0.949278530826\n",
      "Validation Set Performance: 0.795918367347\n",
      "Epoch: [100/700]\n",
      "Training Set Performance: 0.965894184521\n",
      "Validation Set Performance: 0.808163265306\n",
      "Epoch: [150/700]\n",
      "Training Set Performance: 0.974639265413\n",
      "Validation Set Performance: 0.818367346939\n",
      "Epoch: [200/700]\n",
      "Training Set Performance: 0.981198076082\n",
      "Validation Set Performance: 0.816326530612\n",
      "Epoch: [250/700]\n",
      "Training Set Performance: 0.984258854394\n",
      "Validation Set Performance: 0.814285714286\n",
      "Epoch: [300/700]\n",
      "Training Set Performance: 0.986882378662\n",
      "Validation Set Performance: 0.820408163265\n",
      "Epoch: [350/700]\n",
      "Training Set Performance: 0.988194140796\n",
      "Validation Set Performance: 0.822448979592\n",
      "Epoch: [400/700]\n",
      "Training Set Performance: 0.98950590293\n",
      "Validation Set Performance: 0.816326530612\n",
      "Epoch: [450/700]\n",
      "Training Set Performance: 0.991692173153\n",
      "Validation Set Performance: 0.818367346939\n",
      "Epoch: [500/700]\n",
      "Training Set Performance: 0.992129427197\n",
      "Validation Set Performance: 0.816326530612\n",
      "Epoch: [550/700]\n",
      "Training Set Performance: 0.992566681242\n",
      "Validation Set Performance: 0.810204081633\n",
      "Epoch: [600/700]\n",
      "Training Set Performance: 0.99431569742\n",
      "Validation Set Performance: 0.812244897959\n",
      "Epoch: [650/700]\n",
      "Training Set Performance: 0.996501967643\n",
      "Validation Set Performance: 0.810204081633\n",
      "Epoch: [700/700]\n",
      "Training Set Performance: 0.996939221688\n",
      "Validation Set Performance: 0.810204081633\n"
     ]
    },
    {
     "data": {
      "image/png": "[encoded data removed]",
      "text/plain": [
       "<matplotlib.figure.Figure at 0x1076898d0>"
      ]
     },
     "metadata": {},
     "output_type": "display_data"
    }
   ],
   "source": [
    "model = LR_model(x_train, y_train, x_valid, y_valid, word_dict, 700, .001)"
   ]
  },
  {
   "cell_type": "code",
   "execution_count": 32,
   "metadata": {},
   "outputs": [
    {
     "name": "stdout",
     "output_type": "stream",
     "text": [
      "0.846625766871\n"
     ]
    }
   ],
   "source": [
    "test_input = Variable(torch.from_numpy(x_test), requires_grad=False).type(torch.FloatTensor)\n",
    "prediction = model(test_input).data.numpy()\n",
    "test_performance = (np.mean(np.argmax(prediction, 1) == np.argmax(y_test, 1)))\n",
    "print(test_performance)"
   ]
  },
  {
   "cell_type": "code",
   "execution_count": 33,
   "metadata": {
    "collapsed": true
   },
   "outputs": [],
   "source": [
    "def LR_model_L2(x_train, y_train, x_valid, y_valid, word_dict, reg_term=0.01):\n",
    "    # Hyper Parameters \n",
    "    input_size = len(word_dict)\n",
    "    num_classes = 2\n",
    "    num_epochs = 700\n",
    "    learning_rate = 0.001\n",
    "\n",
    "    model_L2 = LogisticRegression(input_size, num_classes)\n",
    "\n",
    "    x = Variable(torch.from_numpy(x_train), requires_grad=False).type(torch.FloatTensor)\n",
    "    y = Variable(torch.from_numpy(np.argmax(y_train, 1)), requires_grad=False).type(torch.LongTensor)\n",
    "\n",
    "    loss_fn = nn.CrossEntropyLoss()  \n",
    "    #apply built-in L2 regularization \n",
    "    optimizer = torch.optim.Adam(model_L2.parameters(), lr=learning_rate, weight_decay=reg_term) \n",
    "    \n",
    "    train_perf_list = []\n",
    "    valid_perf_list = []\n",
    "    epoch_list = []\n",
    "\n",
    "    for epoch in range(num_epochs+1):\n",
    "\n",
    "        optimizer.zero_grad()\n",
    "        outputs = model_L2(x)\n",
    "        loss = loss_fn(outputs, y)\n",
    "        loss.backward()\n",
    "        optimizer.step()\n",
    "        \n",
    "        if epoch % 50 == 0:\n",
    "            #Print epoch\n",
    "            print 'Epoch: [{}/{}]'.format(epoch, num_epochs)\n",
    "\n",
    "            training_input = Variable(torch.from_numpy(x_train), requires_grad=False).type(torch.FloatTensor)\n",
    "            prediction = model_L2(training_input).data.numpy()\n",
    "            train_performance = (np.mean(np.argmax(prediction, 1) == np.argmax(y_train, 1)))\n",
    "           \n",
    "            valid_input = Variable(torch.from_numpy(x_valid), requires_grad=False).type(torch.FloatTensor)\n",
    "            prediction = model_L2(valid_input).data.numpy()\n",
    "            valid_performance = (np.mean(np.argmax(prediction, 1) == np.argmax(y_valid, 1))) \n",
    "        \n",
    "        \n",
    "            print \"Training Set Performance: {}\".format(train_performance)\n",
    "            print \"Validation Set Performance: {}\".format(valid_performance)\n",
    "            train_perf_list.append(train_performance)\n",
    "            valid_perf_list.append(valid_performance)\n",
    "            epoch_list.append(epoch)\n",
    "            \n",
    "    #plot the curves\n",
    "    plt.plot(epoch_list, train_perf_list, label='Training Set')\n",
    "    plt.plot(epoch_list, valid_perf_list, label='Validation Set')\n",
    "    plt.title('Set Performance vs. Number of Iterations')\n",
    "    plt.xlabel('Number of Iterations')\n",
    "    plt.ylabel('Set Performance')\n",
    "    plt.legend()\n",
    "    plt.show()\n",
    "\n",
    "    return model_L2"
   ]
  },
  {
   "cell_type": "code",
   "execution_count": 34,
   "metadata": {},
   "outputs": [
    {
     "name": "stdout",
     "output_type": "stream",
     "text": [
      "Epoch: [0/700]\n",
      "Training Set Performance: 0.635767380848\n",
      "Validation Set Performance: 0.577551020408\n",
      "Epoch: [50/700]\n",
      "Training Set Performance: 0.926541320507\n",
      "Validation Set Performance: 0.795918367347\n",
      "Epoch: [100/700]\n",
      "Training Set Performance: 0.913860953214\n",
      "Validation Set Performance: 0.808163265306\n",
      "Epoch: [150/700]\n",
      "Training Set Performance: 0.909925666812\n",
      "Validation Set Performance: 0.810204081633\n",
      "Epoch: [200/700]\n",
      "Training Set Performance: 0.90205509401\n",
      "Validation Set Performance: 0.810204081633\n",
      "Epoch: [250/700]\n",
      "Training Set Performance: 0.89637079143\n",
      "Validation Set Performance: 0.814285714286\n",
      "Epoch: [300/700]\n",
      "Training Set Performance: 0.894184521207\n",
      "Validation Set Performance: 0.814285714286\n",
      "Epoch: [350/700]\n",
      "Training Set Performance: 0.890249234805\n",
      "Validation Set Performance: 0.812244897959\n",
      "Epoch: [400/700]\n",
      "Training Set Performance: 0.886313948404\n",
      "Validation Set Performance: 0.810204081633\n",
      "Epoch: [450/700]\n",
      "Training Set Performance: 0.88500218627\n",
      "Validation Set Performance: 0.810204081633\n",
      "Epoch: [500/700]\n",
      "Training Set Performance: 0.882815916047\n",
      "Validation Set Performance: 0.812244897959\n",
      "Epoch: [550/700]\n",
      "Training Set Performance: 0.881066899869\n",
      "Validation Set Performance: 0.812244897959\n",
      "Epoch: [600/700]\n",
      "Training Set Performance: 0.878880629646\n",
      "Validation Set Performance: 0.814285714286\n",
      "Epoch: [650/700]\n",
      "Training Set Performance: 0.879755137735\n",
      "Validation Set Performance: 0.814285714286\n",
      "Epoch: [700/700]\n",
      "Training Set Performance: 0.878880629646\n",
      "Validation Set Performance: 0.812244897959\n"
     ]
    },
    {
     "data": {
      "image/png": "[encoded data removed]",
      "text/plain": [
       "<matplotlib.figure.Figure at 0x1a2a043650>"
      ]
     },
     "metadata": {},
     "output_type": "display_data"
    }
   ],
   "source": [
    "model_L2 = LR_model_L2(x_train, y_train, x_valid, y_valid, word_dict, 0.01)"
   ]
  },
  {
   "cell_type": "code",
   "execution_count": 35,
   "metadata": {},
   "outputs": [
    {
     "name": "stdout",
     "output_type": "stream",
     "text": [
      "0.842535787321\n"
     ]
    }
   ],
   "source": [
    "test_input = Variable(torch.from_numpy(x_test), requires_grad=False).type(torch.FloatTensor)\n",
    "prediction = model_L2(test_input).data.numpy()\n",
    "test_performance = (np.mean(np.argmax(prediction, 1) == np.argmax(y_test, 1)))\n",
    "print(test_performance)"
   ]
  },
  {
   "cell_type": "code",
   "execution_count": 36,
   "metadata": {
    "collapsed": true
   },
   "outputs": [],
   "source": [
    "def LR_model_L1(x_train, y_train, x_valid, y_valid, word_dict, reg_term):\n",
    "    # Hyper Parameters \n",
    "    input_size = len(word_dict)\n",
    "    num_classes = 2\n",
    "    num_epochs = 700\n",
    "    learning_rate = 0.001\n",
    "    reg_term = 0.01\n",
    "\n",
    "    model_L1 = LogisticRegression(input_size, num_classes)\n",
    "\n",
    "    x = Variable(torch.from_numpy(x_train), requires_grad=False).type(torch.FloatTensor)\n",
    "    y = Variable(torch.from_numpy(np.argmax(y_train, 1)), requires_grad=False).type(torch.LongTensor)\n",
    "\n",
    "    loss_fn = nn.CrossEntropyLoss()  \n",
    "    optimizer = torch.optim.Adam(model_L1.parameters(), lr=learning_rate) \n",
    "    \n",
    "    train_perf_list = []\n",
    "    valid_perf_list = []\n",
    "    epoch_list = []\n",
    "\n",
    "    for epoch in range(num_epochs):\n",
    "        #hacky way of adding L1 regularization\n",
    "        l1_reg = Variable( torch.FloatTensor(1), requires_grad=True)\n",
    "        i = 0\n",
    "        for W in model_L1.parameters():\n",
    "            if i == 0:\n",
    "                l1_reg = l1_reg + W.norm(1)\n",
    "                i += 1\n",
    "        \n",
    "        optimizer.zero_grad()\n",
    "        outputs = model_L1(x)\n",
    "        loss = loss_fn(outputs, y) + (l1_reg * reg_term)\n",
    "        loss.backward()\n",
    "        optimizer.step()\n",
    "        \n",
    "        if epoch % 50 == 0:\n",
    "            #Print epoch\n",
    "            print 'Epoch: [{}/{}]'.format(epoch, num_epochs)\n",
    "\n",
    "            training_input = Variable(torch.from_numpy(x_train), requires_grad=False).type(torch.FloatTensor)\n",
    "            prediction = model_L1(training_input).data.numpy()\n",
    "            train_performance = (np.mean(np.argmax(prediction, 1) == np.argmax(y_train, 1)))\n",
    "           \n",
    "            valid_input = Variable(torch.from_numpy(x_valid), requires_grad=False).type(torch.FloatTensor)\n",
    "            prediction = model_L1(valid_input).data.numpy()\n",
    "            valid_performance = (np.mean(np.argmax(prediction, 1) == np.argmax(y_valid, 1))) \n",
    "        \n",
    "        \n",
    "            print \"Training Set Performance: {}\".format(train_performance)\n",
    "            print \"Validation Set Performance: {}\".format(valid_performance)\n",
    "            train_perf_list.append(train_performance)\n",
    "            valid_perf_list.append(valid_performance)\n",
    "            epoch_list.append(epoch)\n",
    "            \n",
    "    #plot the curves\n",
    "    plt.plot(epoch_list, train_perf_list, label='Training Set')\n",
    "    plt.plot(epoch_list, valid_perf_list, label='Validation Set')\n",
    "    plt.title('Set Performance vs. Number of Iterations')\n",
    "    plt.xlabel('Number of Iterations')\n",
    "    plt.ylabel('Set Performance')\n",
    "    plt.legend()\n",
    "    plt.show()\n",
    "\n",
    "    return model_L1"
   ]
  },
  {
   "cell_type": "code",
   "execution_count": 37,
   "metadata": {},
   "outputs": [
    {
     "name": "stdout",
     "output_type": "stream",
     "text": [
      "Epoch: [0/700]\n",
      "Training Set Performance: 0.465238303454\n",
      "Validation Set Performance: 0.479591836735\n",
      "Epoch: [50/700]\n",
      "Training Set Performance: 0.625273283778\n",
      "Validation Set Performance: 0.624489795918\n",
      "Epoch: [100/700]\n",
      "Training Set Performance: 0.636204634893\n",
      "Validation Set Performance: 0.640816326531\n",
      "Epoch: [150/700]\n",
      "Training Set Performance: 0.665063401836\n",
      "Validation Set Performance: 0.651020408163\n",
      "Epoch: [200/700]\n",
      "Training Set Performance: 0.700918233494\n",
      "Validation Set Performance: 0.7\n",
      "Epoch: [250/700]\n",
      "Training Set Performance: 0.706602536073\n",
      "Validation Set Performance: 0.710204081633\n",
      "Epoch: [300/700]\n",
      "Training Set Performance: 0.706602536073\n",
      "Validation Set Performance: 0.710204081633\n",
      "Epoch: [350/700]\n",
      "Training Set Performance: 0.707914298207\n",
      "Validation Set Performance: 0.714285714286\n",
      "Epoch: [400/700]\n",
      "Training Set Performance: 0.707477044163\n",
      "Validation Set Performance: 0.708163265306\n",
      "Epoch: [450/700]\n",
      "Training Set Performance: 0.71010056843\n",
      "Validation Set Performance: 0.714285714286\n",
      "Epoch: [500/700]\n",
      "Training Set Performance: 0.709663314386\n",
      "Validation Set Performance: 0.714285714286\n",
      "Epoch: [550/700]\n",
      "Training Set Performance: 0.710537822475\n",
      "Validation Set Performance: 0.708163265306\n",
      "Epoch: [600/700]\n",
      "Training Set Performance: 0.710537822475\n",
      "Validation Set Performance: 0.70612244898\n",
      "Epoch: [650/700]\n",
      "Training Set Performance: 0.712286838653\n",
      "Validation Set Performance: 0.704081632653\n"
     ]
    },
    {
     "data": {
      "image/png": "[encoded data removed]",
      "text/plain": [
       "<matplotlib.figure.Figure at 0x1a2a19d310>"
      ]
     },
     "metadata": {},
     "output_type": "display_data"
    }
   ],
   "source": [
    "model_L1 = LR_model_L1(x_train, y_train, x_valid, y_valid, word_dict, 1e-5)"
   ]
  },
  {
   "cell_type": "code",
   "execution_count": 38,
   "metadata": {},
   "outputs": [
    {
     "name": "stdout",
     "output_type": "stream",
     "text": [
      "0.691206543967\n"
     ]
    }
   ],
   "source": [
    "test_input = Variable(torch.from_numpy(x_test), requires_grad=False).type(torch.FloatTensor)\n",
    "prediction = model_L1(test_input).data.numpy()\n",
    "test_performance = (np.mean(np.argmax(prediction, 1) == np.argmax(y_test, 1)))\n",
    "print(test_performance)"
   ]
  },
  {
   "cell_type": "markdown",
   "metadata": {},
   "source": [
    "## Part 5 \n",
    "Write in Latex"
   ]
  },
  {
   "cell_type": "markdown",
   "metadata": {},
   "source": [
    "## Part 6 \n",
    "Analyzing logistic regression results"
   ]
  },
  {
   "cell_type": "code",
   "execution_count": 39,
   "metadata": {
    "scrolled": true
   },
   "outputs": [
    {
     "name": "stdout",
     "output_type": "stream",
     "text": [
      "[[  66  690  148  200  396  315   26  230  125   12]\n",
      " [ 431 3046 1439 2990  281 3015  140  545   92 1185]]\n",
      "[0.24678907, 0.24878056, 0.26128069, 0.26227319, 0.26416084, 0.27675095, 0.29733953, 0.31341875, 0.39491889, 0.44775128]\n",
      "[0.18514775, 0.20624538, 0.23089375, 0.25148371, 0.2621817, 0.26657891, 0.31203148, 0.36761543, 0.37983879, 0.47063372]\n",
      "['you', 'watch', 'are', 'victory', 'that', 'is', 'america', 'just', 'the', 'hillary']\n",
      "['comey', 'australia', 'ban', 'turnbull', 'north', 'korea', 'says', 'us', 'donald', 'trumps']\n"
     ]
    }
   ],
   "source": [
    "#make copy of weights\n",
    "w = np.copy(model_L2.linear.weight.data.numpy()) \n",
    "b = np.copy(model_L2.linear.bias.data.numpy())\n",
    "\n",
    "#invert word dictionary, so we can map index to word\n",
    "inv_word_dict = {v: k for k, v in word_dict.iteritems()}\n",
    "\n",
    "#sort w and return indices\n",
    "indices_a = np.argsort(w, axis = 1)[:,-10:]\n",
    "\n",
    "# for row in range(2):\n",
    "#     temp = []\n",
    "#     for col in range(indices_a.shape[1]):\n",
    "#         temp.append(inv_word_dict[indices_a[row,col]])\n",
    "#     print temp\n",
    "\n",
    "    \n",
    "# for row in range(2):\n",
    "#     temp = []\n",
    "#     for col in range(indices_a.shape[1]):\n",
    "#         temp.append(w[row,col])\n",
    "#     print temp\n",
    "\n",
    "\n",
    "print indices_a\n",
    "\n",
    "for row in range(2):\n",
    "    temp = []\n",
    "    for col in indices_a[row,:]:\n",
    "        temp.append(w[row,col])\n",
    "    print temp\n",
    "\n",
    "for row in range(2):\n",
    "    temp = []\n",
    "    for col in indices_a[row,:]:\n",
    "        temp.append(inv_word_dict[col])\n",
    "    print temp\n",
    "\n",
    "\n"
   ]
  },
  {
   "cell_type": "code",
   "execution_count": 40,
   "metadata": {},
   "outputs": [
    {
     "name": "stdout",
     "output_type": "stream",
     "text": [
      "['win', 'new', 'star', 'breaking', 'watch', 'victory', 'is', 'america', 'just', 'hillary']\n",
      "['tax', 'comey', 'australia', 'ban', 'turnbull', 'north', 'korea', 'says', 'donald', 'trumps']\n"
     ]
    }
   ],
   "source": [
    "#grab the top 30\n",
    "indices_b = np.argsort(w, axis = 1)[:,-30:]\n",
    "fake_words = [inv_word_dict[indices_b[0, col]] for col in range(indices_b.shape[1]) ]\n",
    "real_words = [inv_word_dict[indices_b[1, col]] for col in range(indices_b.shape[1]) ]\n",
    "\n",
    "#remove stop words\n",
    "for word in fake_words:\n",
    "    if word in ENGLISH_STOP_WORDS:\n",
    "        fake_words.remove(word)\n",
    "        \n",
    "for word in real_words:\n",
    "    if word in ENGLISH_STOP_WORDS:\n",
    "        real_words.remove(word)\n",
    "\n",
    "print fake_words[-10:]\n",
    "print real_words[-10:]"
   ]
  },
  {
   "cell_type": "code",
   "execution_count": null,
   "metadata": {
    "collapsed": true
   },
   "outputs": [],
   "source": [
    "\n",
    "\n"
   ]
  },
  {
   "cell_type": "code",
   "execution_count": null,
   "metadata": {
    "collapsed": true
   },
   "outputs": [],
   "source": []
  },
  {
   "cell_type": "code",
   "execution_count": null,
   "metadata": {
    "collapsed": true
   },
   "outputs": [],
   "source": []
  },
  {
   "cell_type": "code",
   "execution_count": null,
   "metadata": {
    "collapsed": true
   },
   "outputs": [],
   "source": []
  }
 ],
 "metadata": {
  "kernelspec": {
   "display_name": "Python 2",
   "language": "python",
   "name": "python2"
  },
  "language_info": {
   "codemirror_mode": {
    "name": "ipython",
    "version": 2
   },
   "file_extension": ".py",
   "mimetype": "text/x-python",
   "name": "python",
   "nbconvert_exporter": "python",
   "pygments_lexer": "ipython2",
   "version": "2.7.14"
  }
 },
 "nbformat": 4,
 "nbformat_minor": 2
}
