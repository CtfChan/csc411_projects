{
 "cells": [
  {
   "cell_type": "markdown",
   "metadata": {},
   "source": [
    "# CSC411 Project 3"
   ]
  },
  {
   "cell_type": "markdown",
   "metadata": {},
   "source": [
    "## Part 1 Preparation of data"
   ]
  },
  {
   "cell_type": "code",
   "execution_count": 1,
   "metadata": {
    "collapsed": true
   },
   "outputs": [],
   "source": [
    "import random\n",
    "import numpy as np\n",
    "import math"
   ]
  },
  {
   "cell_type": "code",
   "execution_count": 2,
   "metadata": {
    "collapsed": true
   },
   "outputs": [],
   "source": [
    "#prepare datasets\n",
    "#designate 0 = fake, 1 = real for our labels\n",
    "\n",
    "fake_data = \"clean_fake.txt\"\n",
    "real_data = \"clean_real.txt\"\n",
    "\n",
    "fake = []\n",
    "for line in open(fake_data):\n",
    "    l = line.rstrip('\\n').split()\n",
    "    fake.append(l)\n",
    "    \n",
    "real = []\n",
    "for line in open(real_data):\n",
    "    l = line.rstrip('\\n').split()\n",
    "    real.append(l)\n",
    "    \n",
    "random.seed(1)\n",
    "random.shuffle(fake)\n",
    "random.seed(1)\n",
    "random.shuffle(real)\n",
    "\n",
    "train_set, valid_set, test_set = [], [], []\n",
    "train_label, valid_label, test_label = [], [], []\n",
    "\n",
    "for i in range(len(fake)):\n",
    "    if i < 0.7*len(fake):\n",
    "        train_set.append(fake[i])\n",
    "        train_label.append(0)\n",
    "    elif i < 0.85*len(fake):\n",
    "        valid_set.append(fake[i])\n",
    "        valid_label.append(0)\n",
    "    else:\n",
    "        test_set.append(fake[i])\n",
    "        test_label.append(0)\n",
    "\n",
    "for i in range(len(real)):\n",
    "    if i < 0.7*len(real):\n",
    "        train_set.append(real[i])\n",
    "        train_label.append(1)\n",
    "    elif i < 0.85*len(real):\n",
    "        valid_set.append(real[i])\n",
    "        valid_label.append(1)\n",
    "    else:\n",
    "        test_set.append(real[i])\n",
    "        test_label.append(1)"
   ]
  },
  {
   "cell_type": "code",
   "execution_count": 3,
   "metadata": {},
   "outputs": [
    {
     "name": "stdout",
     "output_type": "stream",
     "text": [
      "0.700244947949\n",
      "0.150030618494\n",
      "0.149724433558\n"
     ]
    }
   ],
   "source": [
    "#check compositions\n",
    "sum = len(train_set) + len(valid_set) + len(test_set)\n",
    "print len(train_set) / float(sum)\n",
    "print len(valid_set) / float(sum)\n",
    "print len(test_set) / float(sum)\n"
   ]
  },
  {
   "cell_type": "code",
   "execution_count": 4,
   "metadata": {
    "collapsed": true
   },
   "outputs": [],
   "source": [
    "#construct word frequency dictionary, \n",
    "#word_freq = {some_word, (num_label=0, num_label=1)}\n",
    "word_freq = {}\n",
    "for i in range(len(train_set)):\n",
    "    unique_words = set(train_set[i])\n",
    "    for word in unique_words:\n",
    "        if word in word_freq:\n",
    "            if train_label[i] == 0: \n",
    "                word_freq[word] = (word_freq[word][0]+1, word_freq[word][1])\n",
    "            elif train_label[i] == 1: \n",
    "                word_freq[word] = (word_freq[word][0], word_freq[word][1]+1)\n",
    "        else:\n",
    "            if train_label[i] == 0: \n",
    "                word_freq[word] = (1, 0)\n",
    "            elif train_label[i] == 1: \n",
    "                word_freq[word] = (0, 1)\n"
   ]
  },
  {
   "cell_type": "code",
   "execution_count": 5,
   "metadata": {
    "collapsed": true
   },
   "outputs": [],
   "source": [
    "#extract all prob_wi_g_fake, prob_wi_g_real\n",
    "word_freq_list = word_freq.items()\n",
    "\n",
    "#define hyperparameters\n",
    "# m = 4.556423559251676\n",
    "# p_hat = 0.05764749575838839\n",
    "m = 0.0\n",
    "p_hat = 0.0\n",
    "\n",
    "#count number of fake instances\n",
    "num_fake = train_label.count(0)\n",
    "num_real = train_label.count(1)\n",
    "\n",
    "prob_real = num_real / float(num_fake+num_real)\n",
    "prob_fake = num_fake / float(num_fake+num_real)\n",
    "\n",
    "#get prob of w_is given fake or real news\n",
    "prob_w_g_fake = []\n",
    "prob_w_g_real = []\n",
    "words = []\n",
    "not_prob_w_g_fake = []\n",
    "not_prob_w_g_real = []\n",
    "for word, freq in word_freq.iteritems():\n",
    "    words.append(word)\n",
    "    prob_w_g_fake.append((freq[0] + m*p_hat) / (num_fake + m))\n",
    "    prob_w_g_real.append((freq[1] + m*p_hat) / (num_real + m))\n",
    "    not_prob_w_g_fake.append(1 - ((freq[0] + m*p_hat) / (num_fake + m)))  \n",
    "    not_prob_w_g_real.append(1 - (freq[1] + m*p_hat) / (num_real + m))\n"
   ]
  },
  {
   "cell_type": "code",
   "execution_count": 6,
   "metadata": {},
   "outputs": [
    {
     "data": {
      "text/plain": [
       "[('trump', 0.9900990099009901),\n",
       " ('to', 0.29812981298129815),\n",
       " ('the', 0.2717271727172717),\n",
       " ('donald', 0.18041804180418042),\n",
       " ('in', 0.1617161716171617),\n",
       " ('for', 0.1474147414741474),\n",
       " ('of', 0.14631463146314633),\n",
       " ('a', 0.1342134213421342),\n",
       " ('and', 0.13091309130913092),\n",
       " ('on', 0.12431243124312431)]"
      ]
     },
     "execution_count": 6,
     "metadata": {},
     "output_type": "execute_result"
    }
   ],
   "source": [
    "sorted(zip(words, prob_w_g_fake), key = lambda pair: pair[1], reverse=True)[:10]"
   ]
  },
  {
   "cell_type": "code",
   "execution_count": 7,
   "metadata": {},
   "outputs": [
    {
     "data": {
      "text/plain": [
       "[('trump', 0.8838896952104499),\n",
       " ('donald', 0.41654571843251087),\n",
       " ('to', 0.19666182873730043),\n",
       " ('on', 0.11538461538461539),\n",
       " ('us', 0.11248185776487664),\n",
       " ('trumps', 0.11103047895500726),\n",
       " ('in', 0.10304789550072568),\n",
       " ('for', 0.09216255442670537),\n",
       " ('of', 0.09216255442670537),\n",
       " ('says', 0.09143686502177069)]"
      ]
     },
     "execution_count": 7,
     "metadata": {},
     "output_type": "execute_result"
    }
   ],
   "source": [
    "sorted(zip(words, prob_w_g_real), key = lambda pair: pair[1], reverse=True)[:10]"
   ]
  },
  {
   "cell_type": "code",
   "execution_count": 8,
   "metadata": {},
   "outputs": [
    {
     "data": {
      "text/plain": [
       "[('trump', (900, 1218)),\n",
       " ('to', (271, 271)),\n",
       " ('the', (247, 104)),\n",
       " ('donald', (164, 574)),\n",
       " ('in', (147, 142)),\n",
       " ('for', (134, 127)),\n",
       " ('of', (133, 127)),\n",
       " ('a', (122, 72)),\n",
       " ('and', (119, 80)),\n",
       " ('on', (113, 159))]"
      ]
     },
     "execution_count": 8,
     "metadata": {},
     "output_type": "execute_result"
    }
   ],
   "source": [
    "#Count most frequently used words in fake news\n",
    "sorted(word_freq.iteritems(), key = lambda x: x[1][0], reverse=True)[:10]"
   ]
  },
  {
   "cell_type": "code",
   "execution_count": 9,
   "metadata": {},
   "outputs": [
    {
     "data": {
      "text/plain": [
       "[('trump', (900, 1218)),\n",
       " ('donald', (164, 574)),\n",
       " ('to', (271, 271)),\n",
       " ('on', (113, 159)),\n",
       " ('us', (27, 155)),\n",
       " ('trumps', (4, 153)),\n",
       " ('in', (147, 142)),\n",
       " ('for', (134, 127)),\n",
       " ('of', (133, 127)),\n",
       " ('says', (36, 126))]"
      ]
     },
     "execution_count": 9,
     "metadata": {},
     "output_type": "execute_result"
    }
   ],
   "source": [
    "#Count most frequently used words in real news\n",
    "sorted(word_freq.iteritems(), key = lambda x: x[1][1], reverse=True)[:10]"
   ]
  },
  {
   "cell_type": "code",
   "execution_count": 10,
   "metadata": {},
   "outputs": [
    {
     "name": "stdout",
     "output_type": "stream",
     "text": [
      "america\n",
      "0.047\n",
      "0.007\n",
      "====\n",
      "obama\n",
      "0.043\n",
      "0.016\n",
      "====\n",
      "turnbull\n",
      "0.0\n",
      "0.026\n",
      "====\n"
     ]
    }
   ],
   "source": [
    "#Finding P(word|spam) and P(word|not spam) for 'america', 'obama', 'turnbull'\n",
    "some_words = ['america', 'obama', 'turnbull']\n",
    "for word in some_words:\n",
    "    print word\n",
    "    word1 = words.index(word)\n",
    "    print round(prob_w_g_fake[word1],3)\n",
    "    print round(prob_w_g_real[word1],3)\n",
    "    print '===='"
   ]
  },
  {
   "cell_type": "markdown",
   "metadata": {},
   "source": [
    "## Part 2 Naive Bayes Classifier"
   ]
  },
  {
   "cell_type": "code",
   "execution_count": 11,
   "metadata": {
    "collapsed": true
   },
   "outputs": [],
   "source": [
    "def NB_classifier(train_set, train_label, word_freq, sentence, m, p_hat): \n",
    "    #count number of fake and real instances to compute prob_real and prob_fake\n",
    "    num_fake = train_label.count(0)\n",
    "    num_real = train_label.count(1)\n",
    "    prob_real = num_real / float(num_real + num_fake)\n",
    "    prob_fake = num_fake / float(num_real + num_fake)\n",
    " \n",
    "    #get prob of w_is given fake or real news\n",
    "    prob_w_g_fake = []\n",
    "    prob_w_g_real = []\n",
    "    for word, freq in word_freq.iteritems():\n",
    "        prob_wi_g_fake = (freq[0] + m*p_hat) / (num_fake + m)\n",
    "        prob_wi_g_real = (freq[1] + m*p_hat) / (num_real + m)\n",
    "        \n",
    "        if word in sentence:\n",
    "            prob_w_g_fake.append(prob_wi_g_fake)\n",
    "            prob_w_g_real.append(prob_wi_g_real)\n",
    "        else:\n",
    "            prob_w_g_fake.append(1.0-prob_wi_g_fake)\n",
    "            prob_w_g_real.append(1.0-prob_wi_g_real)\n",
    "    \n",
    "    prob_fake_g_sentence = np.exp(np.sum(np.log(prob_w_g_fake)))*prob_fake\n",
    "    prob_real_g_sentence = np.exp(np.sum(np.log(prob_w_g_real)))*prob_real\n",
    "    \n",
    "    if prob_fake_g_sentence > prob_real_g_sentence:\n",
    "        return 0\n",
    "    else:\n",
    "        return 1\n",
    "    \n",
    "def accuracy(train_set, train_label, word_freq, my_set, my_label, m=3.0, p_hat=0.1):     \n",
    "    correct = 0 \n",
    "    for i in range(len(my_set)) :\n",
    "        prediction = NB_classifier(train_set, train_label, word_freq, my_set[i], m, p_hat)\n",
    "        if prediction == my_label[i]:\n",
    "            correct +=1\n",
    "    \n",
    "    return float(correct) / float(len(my_set))\n",
    "    "
   ]
  },
  {
   "cell_type": "code",
   "execution_count": null,
   "metadata": {
    "collapsed": true
   },
   "outputs": [],
   "source": [
    "#random search for hyperparameters\n",
    "trials = 40\n",
    "res = []\n",
    "random.seed(1)\n",
    "for t in range(trials):\n",
    "    m = random.uniform(0.5, 5.0)\n",
    "    phat = random.uniform(0.05, 0.3)\n",
    "    acc = accuracy(train_set, train_label, word_freq, valid_set, valid_label, m, phat)\n",
    "    res.append((m, phat, acc))\n",
    "print sorted(res, key = lambda x: x[2], reverse = True)[0]"
   ]
  },
  {
   "cell_type": "code",
   "execution_count": 13,
   "metadata": {},
   "outputs": [
    {
     "name": "stdout",
     "output_type": "stream",
     "text": [
      "0.840816326531\n"
     ]
    }
   ],
   "source": [
    "m = 4.260942967639414\n",
    "p_hat = 0.15819176697626336\n",
    "\n",
    "#Test classifier on validation set\n",
    "print(accuracy(train_set, train_label, word_freq, valid_set, valid_label, m , p_hat))"
   ]
  },
  {
   "cell_type": "code",
   "execution_count": 52,
   "metadata": {},
   "outputs": [
    {
     "name": "stdout",
     "output_type": "stream",
     "text": [
      "0.854805725971\n"
     ]
    }
   ],
   "source": [
    "#Test classifier on test set\n",
    "print(accuracy(train_set, train_label, word_freq, test_set, test_label, m , p_hat))"
   ]
  },
  {
   "cell_type": "code",
   "execution_count": 14,
   "metadata": {
    "scrolled": true
   },
   "outputs": [
    {
     "name": "stdout",
     "output_type": "stream",
     "text": [
      "0.946217752514\n"
     ]
    }
   ],
   "source": [
    "#Test classifier on training set\n",
    "print(accuracy(train_set, train_label, word_freq, train_set, train_label, m , p_hat))"
   ]
  },
  {
   "cell_type": "markdown",
   "metadata": {},
   "source": [
    "## Part 3\n",
    "Section A\n",
    "\n",
    "a.) List the 10 words whose presence most strongly predicts that the news is real.\n",
    "\n",
    "b.) List the 10 words whose absence most strongly predicts that the news is real.\n",
    "\n",
    "c.) List the 10 words whose presence most strongly predicts that the news is fake.\n",
    "\n",
    "d.) List the 10 words whose absence most strongly predicts that the news is fake."
   ]
  },
  {
   "cell_type": "code",
   "execution_count": 41,
   "metadata": {
    "collapsed": true
   },
   "outputs": [],
   "source": [
    "#redo part 1 using different m and p\n",
    "#extract all prob_wi_g_fake, prob_wi_g_real\n",
    "word_freq_list = word_freq.items()\n",
    "\n",
    "#define hyperparameters\n",
    "m = 4.556423559251676\n",
    "p_hat = 0.05764749575838839\n",
    "\n",
    "#count number of fake instances\n",
    "num_fake = train_label.count(0)\n",
    "num_real = train_label.count(1)\n",
    "\n",
    "prob_real = num_real / float(num_fake+num_real)\n",
    "prob_fake = num_fake / float(num_fake+num_real)\n",
    "\n",
    "#get prob of w_is given fake or real news\n",
    "prob_w_g_fake = []\n",
    "prob_w_g_real = []\n",
    "words = []\n",
    "not_prob_w_g_fake = []\n",
    "not_prob_w_g_real = []\n",
    "for word, freq in word_freq.iteritems():\n",
    "    words.append(word)\n",
    "    prob_w_g_fake.append((freq[0] + m*p_hat) / (num_fake + m))\n",
    "    prob_w_g_real.append((freq[1] + m*p_hat) / (num_real + m))\n",
    "    not_prob_w_g_fake.append(1 - ((freq[0] + m*p_hat) / (num_fake + m)))  \n",
    "    not_prob_w_g_real.append(1 - (freq[1] + m*p_hat) / (num_real + m))\n"
   ]
  },
  {
   "cell_type": "code",
   "execution_count": 42,
   "metadata": {
    "collapsed": true
   },
   "outputs": [],
   "source": [
    "prob_fake_g_w = []\n",
    "prob_real_g_w = []\n",
    "prob_fake_g_nw = []\n",
    "prob_real_g_nw = []\n",
    "\n",
    "for i, word in enumerate(words):\n",
    "    prob_fake_g_wi = (prob_w_g_fake[i]*prob_fake) / (prob_w_g_fake[i]*prob_fake + prob_w_g_real[i]*prob_real)\n",
    "    prob_real_g_wi = (prob_w_g_real[i]*prob_real) / (prob_w_g_fake[i]*prob_fake + prob_w_g_real[i]*prob_real)\n",
    "    prob_fake_g_nwi = (not_prob_w_g_fake[i]*prob_fake) / (not_prob_w_g_fake[i]*prob_fake + not_prob_w_g_real[i]*prob_real)\n",
    "    prob_real_g_nwi = (not_prob_w_g_real[i]*prob_real) / (not_prob_w_g_fake[i]*prob_fake + not_prob_w_g_real[i]*prob_real)\n",
    "\n",
    "    \n",
    "    prob_fake_g_w.append(prob_fake_g_wi)\n",
    "    prob_real_g_w.append(prob_real_g_wi)\n",
    "    \n",
    "    prob_fake_g_nw.append(prob_fake_g_nwi)\n",
    "    prob_real_g_nw.append(prob_real_g_nwi)\n",
    "    \n",
    "    \n",
    "    #P(word|real)*P(real)/(P(w|real)P(real)+P(w|fake)P(fake))\n",
    "#         prob_w_g_fake.append((freq[0] + m*p_hat) / (num_fake + m))\n",
    "#     prob_w_g_real.append((freq[1] + m*p_hat) / (num_real + m))\n",
    "#     not_prob_w_g_fake.append(1 - ((freq[0] + m*p_hat) / (num_fake + m)))  \n",
    "#     not_prob_w_g_real.append(1 - (freq[1] + m*p_hat) / (num_real + m))"
   ]
  },
  {
   "cell_type": "code",
   "execution_count": 43,
   "metadata": {
    "collapsed": true
   },
   "outputs": [],
   "source": [
    "part_a = sorted(zip(words,prob_real_g_w), key = lambda pair: pair[1], reverse=True)\n",
    "part_b = sorted(zip(words,prob_real_g_nw), key = lambda pair: pair[1], reverse=True)\n",
    "part_c = sorted(zip(words,prob_fake_g_w), key = lambda pair: pair[1], reverse=True)\n",
    "part_d = sorted(zip(words,prob_fake_g_nw), key = lambda pair: pair[1], reverse=True)"
   ]
  },
  {
   "cell_type": "code",
   "execution_count": 44,
   "metadata": {},
   "outputs": [
    {
     "name": "stdout",
     "output_type": "stream",
     "text": [
      "['korea', 'travel', 'turnbull', 'australia', 'trade', 'comments', 'tax', 'paris', 'debate', 'malcolm']\n"
     ]
    }
   ],
   "source": [
    "print [word for word, num in part_a[0:10]]"
   ]
  },
  {
   "cell_type": "code",
   "execution_count": 45,
   "metadata": {},
   "outputs": [
    {
     "name": "stdout",
     "output_type": "stream",
     "text": [
      "['trump', 'the', 'to', 'hillary', 'a', 'is', 'and', 'in', 'for', 'of']\n"
     ]
    }
   ],
   "source": [
    "print [word for word, num in part_b[0:10]]"
   ]
  },
  {
   "cell_type": "code",
   "execution_count": 46,
   "metadata": {},
   "outputs": [
    {
     "name": "stdout",
     "output_type": "stream",
     "text": [
      "['breaking', 'cnn', 'daily', 'won', '3', 'woman', 'soros', 'm', 'u', 'my']\n"
     ]
    }
   ],
   "source": [
    "print [word for word, num in part_c[0:10]]"
   ]
  },
  {
   "cell_type": "code",
   "execution_count": 47,
   "metadata": {},
   "outputs": [
    {
     "name": "stdout",
     "output_type": "stream",
     "text": [
      "['donald', 'trumps', 'us', 'says', 'north', 'korea', 'ban', 'travel', 'turnbull', 'wall']\n"
     ]
    }
   ],
   "source": [
    "print [word for word, num in part_d[0:10]]"
   ]
  },
  {
   "cell_type": "markdown",
   "metadata": {},
   "source": [
    "Section B: removing stopwords"
   ]
  },
  {
   "cell_type": "code",
   "execution_count": 209,
   "metadata": {
    "collapsed": true
   },
   "outputs": [],
   "source": [
    "from sklearn.feature_extraction.text import ENGLISH_STOP_WORDS"
   ]
  },
  {
   "cell_type": "code",
   "execution_count": 210,
   "metadata": {},
   "outputs": [
    {
     "name": "stdout",
     "output_type": "stream",
     "text": [
      "['korea', 'travel', 'turnbull', 'australia', 'trade', 'comments', 'tax', 'paris', 'debate', 'malcolm']\n"
     ]
    }
   ],
   "source": [
    "# 10 non-stopwords that most strongly predict that the news is real\n",
    "processed_part_a = []\n",
    "for pair in part_a:\n",
    "    if pair[0] not in ENGLISH_STOP_WORDS:\n",
    "        processed_part_a.append(pair)\n",
    "print [word for word, num in processed_part_a[:10]]"
   ]
  },
  {
   "cell_type": "code",
   "execution_count": 211,
   "metadata": {},
   "outputs": [
    {
     "name": "stdout",
     "output_type": "stream",
     "text": [
      "['breaking', 'cnn', 'daily', 'won', '3', 'woman', 'soros', 'm', 'u', 'fox']\n"
     ]
    }
   ],
   "source": [
    "# 10 non-stopwords that most strongly predict that the news is fake.\n",
    "processed_part_c = []\n",
    "for pair in part_c:\n",
    "    if pair[0] not in ENGLISH_STOP_WORDS:\n",
    "        processed_part_c.append(pair)\n",
    "print [word for word, num in processed_part_c[:10]]"
   ]
  },
  {
   "cell_type": "markdown",
   "metadata": {},
   "source": [
    "Section C: \n",
    "\n",
    "Why might it make sense to remove stop words when interpreting the model? Why might it make sense to keep stop words?\n",
    "\n",
    "Remove them because you cannot infer context from these words.\n",
    "\n",
    "You might want to keep them if your model's performance is aided by the stop words. For instance, an recurrent neural network might require some level of syntax understanding.\n"
   ]
  },
  {
   "cell_type": "markdown",
   "metadata": {},
   "source": [
    "## Part 4\n",
    "Logistic Regression Spam Classifier"
   ]
  },
  {
   "cell_type": "code",
   "execution_count": 172,
   "metadata": {
    "collapsed": true
   },
   "outputs": [],
   "source": [
    "#convert differents sets into vectors\n",
    "\n",
    "#construct dictionary with each word having a unique label\n",
    "word_dict = {}\n",
    "i = 0\n",
    "all_sets = train_set + valid_set + test_set\n",
    "for sentence in all_sets:\n",
    "    for word in sentence:\n",
    "        if word not in word_dict:\n",
    "            word_dict[word] = i\n",
    "            i += 1\n",
    "\n",
    "#convert each set to np matrices and vectors\n",
    "def convert_to_mat(my_set, my_label, word_dict):\n",
    "    num_unique_words = len(word_dict)\n",
    "    mat_set = np.zeros((len(my_set), num_unique_words))\n",
    "    vec_label = np.asarray(my_label).reshape((len(my_label),1))\n",
    "    not_vec_label = 1 - vec_label\n",
    "    vec_label = np.hstack((not_vec_label,vec_label))\n",
    "    \n",
    "    for i in range(len(my_set)):\n",
    "        for word in my_set[i]:\n",
    "            mat_set[i][word_dict[word]] = 1\n",
    "            \n",
    "    return mat_set, vec_label\n",
    "        "
   ]
  },
  {
   "cell_type": "code",
   "execution_count": 173,
   "metadata": {},
   "outputs": [
    {
     "name": "stdout",
     "output_type": "stream",
     "text": [
      "(2287, 5832)\n",
      "(2287, 2)\n",
      "(490, 5832)\n",
      "(490, 2)\n",
      "(489, 5832)\n",
      "(489, 2)\n"
     ]
    }
   ],
   "source": [
    "x_train, y_train = convert_to_mat(train_set, train_label, word_dict)\n",
    "x_valid, y_valid = convert_to_mat(valid_set, valid_label, word_dict)\n",
    "x_test, y_test = convert_to_mat(test_set, test_label, word_dict)\n",
    "print x_train.shape\n",
    "print y_train.shape\n",
    "print x_valid.shape\n",
    "print y_valid.shape\n",
    "print x_test.shape\n",
    "print y_test.shape"
   ]
  },
  {
   "cell_type": "code",
   "execution_count": 174,
   "metadata": {
    "collapsed": true
   },
   "outputs": [],
   "source": [
    "import torch\n",
    "import torch.nn as nn\n",
    "import torchvision.transforms as transforms\n",
    "from torch.autograd import Variable\n",
    "import matplotlib.pyplot as plt\n"
   ]
  },
  {
   "cell_type": "code",
   "execution_count": 175,
   "metadata": {
    "collapsed": true
   },
   "outputs": [],
   "source": [
    "# Define Model\n",
    "class LogisticRegression(nn.Module):\n",
    "    def __init__(self, input_size, num_classes):\n",
    "        super(LogisticRegression, self).__init__()\n",
    "        self.linear = nn.Linear(input_size, num_classes)\n",
    "    \n",
    "    def forward(self, x):\n",
    "        out = self.linear(x)\n",
    "        return out"
   ]
  },
  {
   "cell_type": "code",
   "execution_count": 190,
   "metadata": {
    "collapsed": true
   },
   "outputs": [],
   "source": [
    "def LR_model(x_train, y_train, x_valid, y_valid, word_dict,num_epochs = 700, learning_rate = 0.001 ):\n",
    "    # Hyper Parameters \n",
    "    input_size = len(word_dict)\n",
    "    num_classes = 2\n",
    "\n",
    "    model = LogisticRegression(input_size, num_classes)\n",
    "\n",
    "    x = Variable(torch.from_numpy(x_train), requires_grad=False).type(torch.FloatTensor)\n",
    "    y = Variable(torch.from_numpy(np.argmax(y_train, 1)), requires_grad=False).type(torch.LongTensor)\n",
    "\n",
    "    loss_fn = nn.CrossEntropyLoss()  \n",
    "    optimizer = torch.optim.Adam(model.parameters(), lr=learning_rate) \n",
    "    \n",
    "    train_perf_list = []\n",
    "    valid_perf_list = []\n",
    "    epoch_list = []\n",
    "\n",
    "    for epoch in range(num_epochs+1):\n",
    "\n",
    "        optimizer.zero_grad()\n",
    "        outputs = model(x)\n",
    "        loss = loss_fn(outputs, y)\n",
    "        loss.backward()\n",
    "        optimizer.step()\n",
    "        \n",
    "        if epoch % 50 == 0:\n",
    "            #Print epoch\n",
    "            print 'Epoch: [{}/{}]'.format(epoch, num_epochs)\n",
    "\n",
    "            training_input = Variable(torch.from_numpy(x_train), requires_grad=False).type(torch.FloatTensor)\n",
    "            prediction = model(training_input).data.numpy()            \n",
    "            train_performance = (np.mean(np.argmax(prediction, 1) == np.argmax(y_train, 1)))\n",
    "           \n",
    "            valid_input = Variable(torch.from_numpy(x_valid), requires_grad=False).type(torch.FloatTensor)\n",
    "            prediction = model(valid_input).data.numpy()\n",
    "            valid_performance = (np.mean(np.argmax(prediction, 1) == np.argmax(y_valid, 1))) \n",
    "        \n",
    "            print \"Training Set Performance: {}\".format(train_performance)\n",
    "            print \"Validation Set Performance: {}\".format(valid_performance)\n",
    "            train_perf_list.append(train_performance)\n",
    "            valid_perf_list.append(valid_performance)\n",
    "            epoch_list.append(epoch)\n",
    "            \n",
    "    #plot the curves\n",
    "    plt.plot(epoch_list, train_perf_list, label='Training Set')\n",
    "    plt.plot(epoch_list, valid_perf_list, label='Validation Set')\n",
    "    plt.title('Set Performance vs. Number of Iterations')\n",
    "    plt.xlabel('Number of Iterations')\n",
    "    plt.ylabel('Set Performance')\n",
    "    plt.legend()\n",
    "    plt.show()\n",
    "\n",
    "    return model"
   ]
  },
  {
   "cell_type": "code",
   "execution_count": 193,
   "metadata": {},
   "outputs": [
    {
     "name": "stdout",
     "output_type": "stream",
     "text": [
      "Epoch: [0/700]\n",
      "Training Set Performance: 0.542632269348\n",
      "Validation Set Performance: 0.489795918367\n",
      "Epoch: [50/700]\n",
      "Training Set Performance: 0.954962833406\n",
      "Validation Set Performance: 0.810204081633\n",
      "Epoch: [100/700]\n",
      "Training Set Performance: 0.967205946655\n",
      "Validation Set Performance: 0.822448979592\n",
      "Epoch: [150/700]\n",
      "Training Set Performance: 0.975513773502\n",
      "Validation Set Performance: 0.822448979592\n",
      "Epoch: [200/700]\n",
      "Training Set Performance: 0.981198076082\n",
      "Validation Set Performance: 0.816326530612\n",
      "Epoch: [250/700]\n",
      "Training Set Performance: 0.98382160035\n",
      "Validation Set Performance: 0.818367346939\n",
      "Epoch: [300/700]\n",
      "Training Set Performance: 0.987319632707\n",
      "Validation Set Performance: 0.822448979592\n",
      "Epoch: [350/700]\n",
      "Training Set Performance: 0.987756886751\n",
      "Validation Set Performance: 0.822448979592\n",
      "Epoch: [400/700]\n",
      "Training Set Performance: 0.98950590293\n",
      "Validation Set Performance: 0.824489795918\n",
      "Epoch: [450/700]\n",
      "Training Set Performance: 0.991254919108\n",
      "Validation Set Performance: 0.818367346939\n",
      "Epoch: [500/700]\n",
      "Training Set Performance: 0.992129427197\n",
      "Validation Set Performance: 0.814285714286\n",
      "Epoch: [550/700]\n",
      "Training Set Performance: 0.993003935286\n",
      "Validation Set Performance: 0.812244897959\n",
      "Epoch: [600/700]\n",
      "Training Set Performance: 0.994752951465\n",
      "Validation Set Performance: 0.810204081633\n",
      "Epoch: [650/700]\n",
      "Training Set Performance: 0.995627459554\n",
      "Validation Set Performance: 0.810204081633\n",
      "Epoch: [700/700]\n",
      "Training Set Performance: 0.996939221688\n",
      "Validation Set Performance: 0.80612244898\n"
     ]
    },
    {
     "data": {
      "image/png": "[encoded data removed]",
      "text/plain": [
       "<matplotlib.figure.Figure at 0x13af4b190>"
      ]
     },
     "metadata": {},
     "output_type": "display_data"
    }
   ],
   "source": [
    "model = LR_model(x_train, y_train, x_valid, y_valid, word_dict, 700, .001)"
   ]
  },
  {
   "cell_type": "code",
   "execution_count": 194,
   "metadata": {},
   "outputs": [
    {
     "name": "stdout",
     "output_type": "stream",
     "text": [
      "0.840490797546\n"
     ]
    }
   ],
   "source": [
    "test_input = Variable(torch.from_numpy(x_test), requires_grad=False).type(torch.FloatTensor)\n",
    "prediction = model(test_input).data.numpy()\n",
    "test_performance = (np.mean(np.argmax(prediction, 1) == np.argmax(y_test, 1)))\n",
    "print(test_performance)"
   ]
  },
  {
   "cell_type": "code",
   "execution_count": 179,
   "metadata": {
    "collapsed": true
   },
   "outputs": [],
   "source": [
    "def LR_model_L2(x_train, y_train, x_valid, y_valid, word_dict, reg_term=0.01):\n",
    "    # Hyper Parameters \n",
    "    input_size = len(word_dict)\n",
    "    num_classes = 2\n",
    "    num_epochs = 700\n",
    "    learning_rate = 0.001\n",
    "\n",
    "    model_L2 = LogisticRegression(input_size, num_classes)\n",
    "\n",
    "    x = Variable(torch.from_numpy(x_train), requires_grad=False).type(torch.FloatTensor)\n",
    "    y = Variable(torch.from_numpy(np.argmax(y_train, 1)), requires_grad=False).type(torch.LongTensor)\n",
    "\n",
    "    loss_fn = nn.CrossEntropyLoss()  \n",
    "    #apply built-in L2 regularization \n",
    "    optimizer = torch.optim.Adam(model_L2.parameters(), lr=learning_rate, weight_decay=reg_term) \n",
    "    \n",
    "    train_perf_list = []\n",
    "    valid_perf_list = []\n",
    "    epoch_list = []\n",
    "\n",
    "    for epoch in range(num_epochs+1):\n",
    "\n",
    "        optimizer.zero_grad()\n",
    "        outputs = model_L2(x)\n",
    "        loss = loss_fn(outputs, y)\n",
    "        loss.backward()\n",
    "        optimizer.step()\n",
    "        \n",
    "        if epoch % 50 == 0:\n",
    "            #Print epoch\n",
    "            print 'Epoch: [{}/{}]'.format(epoch, num_epochs)\n",
    "\n",
    "            training_input = Variable(torch.from_numpy(x_train), requires_grad=False).type(torch.FloatTensor)\n",
    "            prediction = model_L2(training_input).data.numpy()\n",
    "            train_performance = (np.mean(np.argmax(prediction, 1) == np.argmax(y_train, 1)))\n",
    "           \n",
    "            valid_input = Variable(torch.from_numpy(x_valid), requires_grad=False).type(torch.FloatTensor)\n",
    "            prediction = model_L2(valid_input).data.numpy()\n",
    "            valid_performance = (np.mean(np.argmax(prediction, 1) == np.argmax(y_valid, 1))) \n",
    "        \n",
    "        \n",
    "            print \"Training Set Performance: {}\".format(train_performance)\n",
    "            print \"Validation Set Performance: {}\".format(valid_performance)\n",
    "            train_perf_list.append(train_performance)\n",
    "            valid_perf_list.append(valid_performance)\n",
    "            epoch_list.append(epoch)\n",
    "            \n",
    "    #plot the curves\n",
    "    plt.plot(epoch_list, train_perf_list, label='Training Set')\n",
    "    plt.plot(epoch_list, valid_perf_list, label='Validation Set')\n",
    "    plt.title('Set Performance vs. Number of Iterations')\n",
    "    plt.xlabel('Number of Iterations')\n",
    "    plt.ylabel('Set Performance')\n",
    "    plt.legend()\n",
    "    plt.show()\n",
    "\n",
    "    return model_L2"
   ]
  },
  {
   "cell_type": "code",
   "execution_count": 180,
   "metadata": {},
   "outputs": [
    {
     "name": "stdout",
     "output_type": "stream",
     "text": [
      "Epoch: [0/700]\n",
      "Training Set Performance: 0.629645824224\n",
      "Validation Set Performance: 0.602040816327\n",
      "Epoch: [50/700]\n",
      "Training Set Performance: 0.920419763883\n",
      "Validation Set Performance: 0.791836734694\n",
      "Epoch: [100/700]\n",
      "Training Set Performance: 0.908176650634\n",
      "Validation Set Performance: 0.804081632653\n",
      "Epoch: [150/700]\n",
      "Training Set Performance: 0.905115872322\n",
      "Validation Set Performance: 0.810204081633\n",
      "Epoch: [200/700]\n",
      "Training Set Performance: 0.899431569742\n",
      "Validation Set Performance: 0.812244897959\n",
      "Epoch: [250/700]\n",
      "Training Set Performance: 0.89637079143\n",
      "Validation Set Performance: 0.812244897959\n",
      "Epoch: [300/700]\n",
      "Training Set Performance: 0.893747267162\n",
      "Validation Set Performance: 0.814285714286\n",
      "Epoch: [350/700]\n",
      "Training Set Performance: 0.889374726716\n",
      "Validation Set Performance: 0.808163265306\n",
      "Epoch: [400/700]\n",
      "Training Set Performance: 0.886751202449\n",
      "Validation Set Performance: 0.808163265306\n",
      "Epoch: [450/700]\n",
      "Training Set Performance: 0.884127678181\n",
      "Validation Set Performance: 0.810204081633\n",
      "Epoch: [500/700]\n",
      "Training Set Performance: 0.882378662003\n",
      "Validation Set Performance: 0.810204081633\n",
      "Epoch: [550/700]\n",
      "Training Set Performance: 0.880629645824\n",
      "Validation Set Performance: 0.812244897959\n",
      "Epoch: [600/700]\n",
      "Training Set Performance: 0.87931788369\n",
      "Validation Set Performance: 0.812244897959\n",
      "Epoch: [650/700]\n",
      "Training Set Performance: 0.879755137735\n",
      "Validation Set Performance: 0.812244897959\n",
      "Epoch: [700/700]\n",
      "Training Set Performance: 0.879755137735\n",
      "Validation Set Performance: 0.810204081633\n"
     ]
    },
    {
     "data": {
      "image/png": "[encoded data removed]",
      "text/plain": [
       "<matplotlib.figure.Figure at 0x13b093c50>"
      ]
     },
     "metadata": {},
     "output_type": "display_data"
    }
   ],
   "source": [
    "model_L2 = LR_model_L2(x_train, y_train, x_valid, y_valid, word_dict, 0.01)"
   ]
  },
  {
   "cell_type": "code",
   "execution_count": 188,
   "metadata": {},
   "outputs": [
    {
     "name": "stdout",
     "output_type": "stream",
     "text": [
      "0.846625766871\n"
     ]
    }
   ],
   "source": [
    "test_input = Variable(torch.from_numpy(x_test), requires_grad=False).type(torch.FloatTensor)\n",
    "prediction = model_L2(test_input).data.numpy()\n",
    "test_performance = (np.mean(np.argmax(prediction, 1) == np.argmax(y_test, 1)))\n",
    "print(test_performance)"
   ]
  },
  {
   "cell_type": "code",
   "execution_count": 197,
   "metadata": {
    "collapsed": true
   },
   "outputs": [],
   "source": [
    "def LR_model_L1(x_train, y_train, x_valid, y_valid, word_dict, reg_term):\n",
    "    # Hyper Parameters \n",
    "    input_size = len(word_dict)\n",
    "    num_classes = 2\n",
    "    num_epochs = 700\n",
    "    learning_rate = 0.001\n",
    "    reg_term = 0.01\n",
    "\n",
    "    model_L1 = LogisticRegression(input_size, num_classes)\n",
    "\n",
    "    x = Variable(torch.from_numpy(x_train), requires_grad=False).type(torch.FloatTensor)\n",
    "    y = Variable(torch.from_numpy(np.argmax(y_train, 1)), requires_grad=False).type(torch.LongTensor)\n",
    "\n",
    "    loss_fn = nn.CrossEntropyLoss()  \n",
    "    optimizer = torch.optim.Adam(model_L1.parameters(), lr=learning_rate) \n",
    "    \n",
    "    train_perf_list = []\n",
    "    valid_perf_list = []\n",
    "    epoch_list = []\n",
    "\n",
    "    for epoch in range(num_epochs):\n",
    "        #hacky way of adding L1 regularization\n",
    "        l1_reg = Variable( torch.FloatTensor(1), requires_grad=True)\n",
    "        i = 0\n",
    "        for W in model_L1.parameters():\n",
    "            if i == 0:\n",
    "                l1_reg = l1_reg + W.norm(1)\n",
    "                i += 1\n",
    "        \n",
    "        optimizer.zero_grad()\n",
    "        outputs = model_L1(x)\n",
    "        loss = loss_fn(outputs, y) + (l1_reg * reg_term)\n",
    "        loss.backward()\n",
    "        optimizer.step()\n",
    "        \n",
    "        if epoch % 50 == 0:\n",
    "            #Print epoch\n",
    "            print 'Epoch: [{}/{}]'.format(epoch, num_epochs)\n",
    "\n",
    "            training_input = Variable(torch.from_numpy(x_train), requires_grad=False).type(torch.FloatTensor)\n",
    "            prediction = model_L1(training_input).data.numpy()\n",
    "            train_performance = (np.mean(np.argmax(prediction, 1) == np.argmax(y_train, 1)))\n",
    "           \n",
    "            valid_input = Variable(torch.from_numpy(x_valid), requires_grad=False).type(torch.FloatTensor)\n",
    "            prediction = model_L1(valid_input).data.numpy()\n",
    "            valid_performance = (np.mean(np.argmax(prediction, 1) == np.argmax(y_valid, 1))) \n",
    "        \n",
    "        \n",
    "            print \"Training Set Performance: {}\".format(train_performance)\n",
    "            print \"Validation Set Performance: {}\".format(valid_performance)\n",
    "            train_perf_list.append(train_performance)\n",
    "            valid_perf_list.append(valid_performance)\n",
    "            epoch_list.append(epoch)\n",
    "            \n",
    "    #plot the curves\n",
    "    plt.plot(epoch_list, train_perf_list, label='Training Set')\n",
    "    plt.plot(epoch_list, valid_perf_list, label='Validation Set')\n",
    "    plt.title('Set Performance vs. Number of Iterations')\n",
    "    plt.xlabel('Number of Iterations')\n",
    "    plt.ylabel('Set Performance')\n",
    "    plt.legend()\n",
    "    plt.show()\n",
    "\n",
    "    return model_L1"
   ]
  },
  {
   "cell_type": "code",
   "execution_count": 198,
   "metadata": {},
   "outputs": [
    {
     "name": "stdout",
     "output_type": "stream",
     "text": [
      "Epoch: [0/700]\n",
      "Training Set Performance: 0.521206821163\n",
      "Validation Set Performance: 0.485714285714\n",
      "Epoch: [50/700]\n",
      "Training Set Performance: 0.631394840402\n",
      "Validation Set Performance: 0.636734693878\n",
      "Epoch: [100/700]\n",
      "Training Set Performance: 0.643200699606\n",
      "Validation Set Performance: 0.64693877551\n",
      "Epoch: [150/700]\n",
      "Training Set Performance: 0.667686926104\n",
      "Validation Set Performance: 0.661224489796\n",
      "Epoch: [200/700]\n",
      "Training Set Performance: 0.706602536073\n",
      "Validation Set Performance: 0.708163265306\n",
      "Epoch: [250/700]\n",
      "Training Set Performance: 0.708351552252\n",
      "Validation Set Performance: 0.710204081633\n",
      "Epoch: [300/700]\n",
      "Training Set Performance: 0.708351552252\n",
      "Validation Set Performance: 0.710204081633\n",
      "Epoch: [350/700]\n",
      "Training Set Performance: 0.709226060341\n",
      "Validation Set Performance: 0.710204081633\n",
      "Epoch: [400/700]\n",
      "Training Set Performance: 0.708351552252\n",
      "Validation Set Performance: 0.710204081633\n",
      "Epoch: [450/700]\n",
      "Training Set Performance: 0.708788806296\n",
      "Validation Set Performance: 0.710204081633\n",
      "Epoch: [500/700]\n",
      "Training Set Performance: 0.708788806296\n",
      "Validation Set Performance: 0.710204081633\n",
      "Epoch: [550/700]\n",
      "Training Set Performance: 0.71010056843\n",
      "Validation Set Performance: 0.708163265306\n",
      "Epoch: [600/700]\n",
      "Training Set Performance: 0.709663314386\n",
      "Validation Set Performance: 0.708163265306\n",
      "Epoch: [650/700]\n",
      "Training Set Performance: 0.711412330564\n",
      "Validation Set Performance: 0.70612244898\n"
     ]
    },
    {
     "data": {
      "image/png": "[encoded data removed]",
      "text/plain": [
       "<matplotlib.figure.Figure at 0x13af6ec10>"
      ]
     },
     "metadata": {},
     "output_type": "display_data"
    }
   ],
   "source": [
    "model_L1 = LR_model_L1(x_train, y_train, x_valid, y_valid, word_dict, 1e-5)"
   ]
  },
  {
   "cell_type": "code",
   "execution_count": 185,
   "metadata": {},
   "outputs": [
    {
     "name": "stdout",
     "output_type": "stream",
     "text": [
      "0.693251533742\n"
     ]
    }
   ],
   "source": [
    "test_input = Variable(torch.from_numpy(x_test), requires_grad=False).type(torch.FloatTensor)\n",
    "prediction = model_L1(test_input).data.numpy()\n",
    "test_performance = (np.mean(np.argmax(prediction, 1) == np.argmax(y_test, 1)))\n",
    "print(test_performance)"
   ]
  },
  {
   "cell_type": "markdown",
   "metadata": {},
   "source": [
    "## Part 5 \n",
    "Write in Latex"
   ]
  },
  {
   "cell_type": "markdown",
   "metadata": {},
   "source": [
    "## Part 6 \n",
    "Analyzing logistic regression results"
   ]
  },
  {
   "cell_type": "code",
   "execution_count": 204,
   "metadata": {
    "scrolled": true
   },
   "outputs": [
    {
     "name": "stdout",
     "output_type": "stream",
     "text": [
      "['breaking', 'you', 'watch', 'victory', 'are', 'that', 'is', 'america', 'just', 'the']\n",
      "['tax', 'comey', 'australia', 'ban', 'turnbull', 'north', 'korea', 'says', 'donald', 'us']\n"
     ]
    }
   ],
   "source": [
    "#make copy of weights\n",
    "w = np.copy(model_L2.linear.weight.data.numpy()) \n",
    "b = np.copy(model_L2.linear.bias.data.numpy())\n",
    "\n",
    "#invert word dictionary, so we can map index to word\n",
    "inv_word_dict = {v: k for k, v in word_dict.iteritems()}\n",
    "\n",
    "#sort w and return indices\n",
    "indices_a = np.argsort(w, axis = 1)[:,-10:]\n",
    "\n",
    "for row in range(2):\n",
    "    temp = []\n",
    "    for col in range(indices_a.shape[1]):\n",
    "        temp.append(inv_word_dict[indices[row,col]])\n",
    "    print temp\n"
   ]
  },
  {
   "cell_type": "code",
   "execution_count": 215,
   "metadata": {},
   "outputs": [
    {
     "name": "stdout",
     "output_type": "stream",
     "text": [
      "['win', 'new', 'star', 'breaking', 'watch', 'victory', 'that', 'america', 'just', 'hillary']\n",
      "['tax', 'comey', 'australia', 'ban', 'turnbull', 'north', 'korea', 'says', 'donald', 'trumps']\n"
     ]
    }
   ],
   "source": [
    "#grab the top 30\n",
    "indices_b = np.argsort(w, axis = 1)[:,-30:]\n",
    "fake_words = [inv_word_dict[indices_b[0, col]] for col in range(indices_b.shape[1]) ]\n",
    "real_words = [inv_word_dict[indices_b[1, col]] for col in range(indices_b.shape[1]) ]\n",
    "\n",
    "#remove stop words\n",
    "for word in fake_words:\n",
    "    if word in ENGLISH_STOP_WORDS:\n",
    "        fake_words.remove(word)\n",
    "        \n",
    "for word in real_words:\n",
    "    if word in ENGLISH_STOP_WORDS:\n",
    "        real_words.remove(word)\n",
    "\n",
    "print fake_words[-10:]\n",
    "print real_words[-10:]"
   ]
  },
  {
   "cell_type": "markdown",
   "metadata": {
    "collapsed": true
   },
   "source": [
    "## Part 7a"
   ]
  },
  {
   "cell_type": "markdown",
   "metadata": {},
   "source": [
    "### Preparing the Datasets"
   ]
  },
  {
   "cell_type": "code",
   "execution_count": 1,
   "metadata": {
    "collapsed": true
   },
   "outputs": [],
   "source": [
    "from sklearn.tree import DecisionTreeClassifier,export_graphviz\n",
    "import matplotlib.pyplot as plt\n",
    "import random\n",
    "import numpy as np\n",
    "import math\n",
    "\n",
    "#prepare datasets\n",
    "#designate 0 = fake, 1 = real for our labels\n",
    "\n",
    "fake_data = \"clean_fake.txt\"\n",
    "real_data = \"clean_real.txt\"\n",
    "\n",
    "fake = []\n",
    "for line in open(fake_data):\n",
    "    l = line.rstrip('\\n').split()\n",
    "    fake.append(l)\n",
    "    \n",
    "real = []\n",
    "for line in open(real_data):\n",
    "    l = line.rstrip('\\n').split()\n",
    "    real.append(l)\n",
    "    \n",
    "random.seed(1)\n",
    "random.shuffle(fake)\n",
    "random.seed(1)\n",
    "random.shuffle(real)\n",
    "\n",
    "train_set, valid_set, test_set = [], [], []\n",
    "train_label, valid_label, test_label = [], [], []\n",
    "\n",
    "\n",
    "for i in range(len(fake)):\n",
    "    if i < 0.7*len(fake):\n",
    "        train_set.append(fake[i])\n",
    "        train_label.append(0)\n",
    "    elif i < 0.85*len(fake):\n",
    "        valid_set.append(fake[i])\n",
    "        valid_label.append(0)\n",
    "    else:\n",
    "        test_set.append(fake[i])\n",
    "        test_label.append(0)\n",
    "\n",
    "for i in range(len(real)):\n",
    "    if i < 0.7*len(real):\n",
    "        train_set.append(real[i])\n",
    "        train_label.append(1)\n",
    "    elif i < 0.85*len(real):\n",
    "        valid_set.append(real[i])\n",
    "        valid_label.append(1)\n",
    "    else:\n",
    "        test_set.append(real[i])\n",
    "        test_label.append(1)"
   ]
  },
  {
   "cell_type": "code",
   "execution_count": 2,
   "metadata": {
    "collapsed": true
   },
   "outputs": [],
   "source": [
    "def process_features(train_set):\n",
    "    i=0\n",
    "    features_words={}\n",
    "    words_features=[]\n",
    "    for title in train_set:\n",
    "        for word in title:\n",
    "            if word not in features_words.keys():\n",
    "                features_words[word]=i\n",
    "                words_features.append(word)\n",
    "                i=i+1\n",
    "    return features_words,words_features\n",
    "classifer = DecisionTreeClassifier(max_features=4000,random_state=0)\n",
    "\n",
    "def create_tree_set(word_set,features_words):\n",
    "    i=0\n",
    "    num_of_words=len(features_words.keys())\n",
    "    tree_set=[]\n",
    "    for title in word_set:\n",
    "        tree_set.append(np.zeros(num_of_words))\n",
    "        for word in title:\n",
    "            if word in features_words.keys():\n",
    "                tree_set[i][features_words[word]]+=1\n",
    "                '''\n",
    "                if tree_set[i][features_words[word]]>1:\n",
    "                    print (title)\n",
    "                '''\n",
    "        i=i+1\n",
    "    return tree_set"
   ]
  },
  {
   "cell_type": "code",
   "execution_count": 3,
   "metadata": {
    "collapsed": true
   },
   "outputs": [],
   "source": [
    "#Processing the sets---------------\n",
    "#Getting the words\n",
    "features_words,words_features=process_features(train_set) #So the features is based solely on the training set\n",
    "\n",
    "#Creating the new training set\n",
    "x_trs=create_tree_set(train_set,features_words)\n",
    "y_trs=train_label\n",
    "\n",
    "#Creating new validation set\n",
    "x_vs=create_tree_set(valid_set,features_words)\n",
    "y_vs=valid_label\n",
    "\n",
    "#Creating new test set\n",
    "x_tes=create_tree_set(test_set,features_words)\n",
    "y_tes=test_label"
   ]
  },
  {
   "cell_type": "markdown",
   "metadata": {},
   "source": [
    "### Exploring max_depth"
   ]
  },
  {
   "cell_type": "code",
   "execution_count": 4,
   "metadata": {},
   "outputs": [
    {
     "data": {
      "image/png": "[encoded data removed]",
      "text/plain": [
       "<matplotlib.figure.Figure at 0x21932b5fe10>"
      ]
     },
     "metadata": {},
     "output_type": "display_data"
    }
   ],
   "source": [
    "trs_data=[]\n",
    "vs_data=[]\n",
    "#tes_data=[]\n",
    "max_depth_record=[]\n",
    "depths_to_try=[2,5,10,20,50,75,100,200,250,500,1000,2000]\n",
    "for num_depth in depths_to_try:\n",
    "    classifier = DecisionTreeClassifier(max_depth=num_depth, random_state=0)\n",
    "    classifier.fit(x_trs, y_trs)\n",
    "    \n",
    "    trs_data.append(classifier.score(x_trs, y_trs))\n",
    "    vs_data.append(classifier.score(x_vs, y_vs))\n",
    "    #tes_data.append(classifier.score(x_tes, y_tes))\n",
    "    max_depth_record.append(num_depth)\n",
    "\n",
    "plt.plot(max_depth_record,trs_data,label=\"Training Set\")\n",
    "plt.plot(max_depth_record,vs_data,label='Validation Set')\n",
    "plt.xlabel('Maximum Depth')\n",
    "plt.ylabel('Accuracy')\n",
    "plt.title('Relationship between Maximum Depth and the Accuracy')\n",
    "plt.legend(loc='lower right', shadow=True)\n",
    "plt.show()"
   ]
  },
  {
   "cell_type": "markdown",
   "metadata": {},
   "source": [
    "### Creating the final decision tree based on findings"
   ]
  },
  {
   "cell_type": "code",
   "execution_count": 5,
   "metadata": {},
   "outputs": [
    {
     "name": "stdout",
     "output_type": "stream",
     "text": [
      "Performance on Training Set: 1.0\n",
      "Performance on Validation Set: 0.769387755102\n",
      "Performance on Test Set: 0.791411042945\n"
     ]
    }
   ],
   "source": [
    "#We found that max_features has an effect on the performance. The explorations can be found in Aside 7.1 and 7.2\n",
    "classifier = DecisionTreeClassifier(max_features=250, random_state=0)\n",
    "classifier.fit(x_trs, y_trs)\n",
    "print (\"Performance on Training Set:\",classifier.score(x_trs, y_trs))\n",
    "print (\"Performance on Validation Set:\",classifier.score(x_vs, y_vs))\n",
    "print (\"Performance on Test Set:\",classifier.score(x_tes, y_tes))"
   ]
  },
  {
   "cell_type": "markdown",
   "metadata": {},
   "source": [
    "### Aside 7.1: How the leaves are classfied (DON'T NEED TO RUN)"
   ]
  },
  {
   "cell_type": "code",
   "execution_count": 6,
   "metadata": {},
   "outputs": [
    {
     "data": {
      "image/png": "[encoded data removed]",
      "text/plain": [
       "<matplotlib.figure.Figure at 0x2193f732240>"
      ]
     },
     "metadata": {},
     "output_type": "display_data"
    }
   ],
   "source": [
    "#DON'T NEED TO RUN, but is runnable\n",
    "'''\n",
    "We also explored how the leaves are classified\n",
    "The following code is essentially the same as the code for exploring max_depth. \n",
    "Here, instead of using classifier.score(), we manually classified the leaves and then tested it\n",
    "'''\n",
    "performance_record=[]\n",
    "max_depth_record=[]\n",
    "depths_to_try=[2,5,10,20,50,75,100,200,250,500,1000,2000]\n",
    "for num_depth in depths_to_try:\n",
    "    c = DecisionTreeClassifier(max_depth=num_depth, random_state=0)\n",
    "    c.fit(x_trs, y_trs)\n",
    "\n",
    "    #Using training set to classify the leaves\n",
    "    y_trs_pred=c.apply(x_trs) #Contains the leaf ids of the results of each test case\n",
    "    i=0\n",
    "    leaves={}\n",
    "    for leafID in y_trs_pred:\n",
    "        if leafID not in leaves.keys():\n",
    "            leaves[leafID]=0\n",
    "\n",
    "        if y_trs[i]==0: #Fake\n",
    "            leaves[leafID]-=1\n",
    "        else:#Real\n",
    "            leaves[leafID]+=1\n",
    "        i+=1\n",
    "\n",
    "    for leafID in leaves.keys():\n",
    "        if leaves[leafID]<0:#Fake\n",
    "            leaves[leafID]=0\n",
    "        elif leaves[leafID]>0:#Real\n",
    "            leaves[leafID]=1\n",
    "        else:\n",
    "            #print (\"# Fake=#Real for node\",leafID)\n",
    "            leaves[leafID]=1 #OR USE RANDOMIZER\n",
    "\n",
    "    #Using validation set to test the accuracy of the decision tree\n",
    "    y_vs_pred=c.apply(x_vs)\n",
    "    correct=0 \n",
    "    i=0\n",
    "    for leafID in y_vs_pred:\n",
    "        if leaves[leafID]==y_vs[i]:\n",
    "            correct+=1\n",
    "        i+=1\n",
    "    #print (\"Performance:\",correct/len(y_vs))\n",
    "    #print (num_leaf_nodes)\n",
    "    performance_record.append(correct/len(y_vs))\n",
    "    max_depth_record.append(num_depth)\n",
    "\n",
    "plt.plot(max_depth_record, performance_record)\n",
    "plt.xlabel('Maximum Depth')\n",
    "plt.ylabel('Accuracy on Validation Set')\n",
    "plt.title('Relationship between Maximum Depth and the Validation Set Accuracy')\n",
    "plt.show()\n",
    "\n",
    "#The resulting graph matches the one using the classifier.score() function"
   ]
  },
  {
   "cell_type": "markdown",
   "metadata": {},
   "source": [
    "### Aside 7.2: Exploring max_features (DON'T NEED TO RUN)"
   ]
  },
  {
   "cell_type": "code",
   "execution_count": 7,
   "metadata": {},
   "outputs": [
    {
     "data": {
      "image/png": "[encoded data removed]",
      "text/plain": [
       "<matplotlib.figure.Figure at 0x2193f74bc18>"
      ]
     },
     "metadata": {},
     "output_type": "display_data"
    }
   ],
   "source": [
    "#DON'T NEED TO RUN, but is runnable\n",
    "\n",
    "trs_data=[]\n",
    "vs_data=[]\n",
    "max_depth_record=[]\n",
    "nums_to_try=[10,50,75,100,125,150,200,250,300,400,500]\n",
    "\n",
    "for num_features in nums_to_try:\n",
    "    c = DecisionTreeClassifier(max_features=num_features, max_depth=250,random_state=0)\n",
    "    c.fit(x_trs, y_trs)\n",
    "    \n",
    "    trs_data.append(c.score(x_trs, y_trs))\n",
    "    vs_data.append(c.score(x_vs, y_vs))\n",
    "    #tes_data.append(c.score(x_tes, y_tes))\n",
    "    max_depth_record.append(num_features)\n",
    "\n",
    "\n",
    "#plt.plot(max_depth_record,trs_data,label=\"Training Set\")\n",
    "plt.plot(max_depth_record,vs_data,label='Validation Set')\n",
    "plt.xlabel('Maximum Features')\n",
    "plt.ylabel('Accuracy on Validation Set')\n",
    "plt.title('Relationship between Maximum Features and the Accuracy on Validation Set')\n",
    "plt.legend(loc='lower right', shadow=True)\n",
    "plt.show()"
   ]
  },
  {
   "cell_type": "markdown",
   "metadata": {},
   "source": [
    "### Aside 7.3: Exploring max_leaf_nodes (DON'T NEED TO RUN)"
   ]
  },
  {
   "cell_type": "code",
   "execution_count": 8,
   "metadata": {},
   "outputs": [
    {
     "data": {
      "image/png": "[encoded data removed]",
      "text/plain": [
       "<matplotlib.figure.Figure at 0x219358535c0>"
      ]
     },
     "metadata": {},
     "output_type": "display_data"
    }
   ],
   "source": [
    "#DON'T NEED TO RUN, but is runnable\n",
    "\n",
    "trs_data=[]\n",
    "vs_data=[]\n",
    "max_depth_record=[]\n",
    "nums_to_try=[10,50,75,100,125,150,200,250,300,400,500]\n",
    "\n",
    "for max_leaves in nums_to_try:\n",
    "    c = DecisionTreeClassifier(max_leaf_nodes=max_leaves, max_depth=250,random_state=0)\n",
    "    c.fit(x_trs, y_trs)\n",
    "    \n",
    "    trs_data.append(c.score(x_trs, y_trs))\n",
    "    vs_data.append(c.score(x_vs, y_vs))\n",
    "    #tes_data.append(c.score(x_tes, y_tes))\n",
    "    max_depth_record.append(max_leaves)\n",
    "\n",
    "\n",
    "#plt.plot(max_depth_record,trs_data,label=\"Training Set\")\n",
    "plt.plot(max_depth_record,vs_data,label='Validation Set')\n",
    "plt.xlabel('Maximum Leaf Nodes')\n",
    "plt.ylabel('Accuracy on Validation Set')\n",
    "plt.title('Relationship between Maximum Leaf Nodes and the Accuracy on Validation Set')\n",
    "plt.legend(loc='lower right', shadow=True)\n",
    "plt.show()"
   ]
  },
  {
   "cell_type": "markdown",
   "metadata": {},
   "source": [
    "## Part 7b"
   ]
  },
  {
   "cell_type": "code",
   "execution_count": 9,
   "metadata": {},
   "outputs": [
    {
     "data": {
      "image/svg+xml": [
       "<?xml version=\"1.0\" encoding=\"UTF-8\" standalone=\"no\"?>\r\n",
       "<!DOCTYPE svg PUBLIC \"-//W3C//DTD SVG 1.1//EN\"\r\n",
       " \"http://www.w3.org/Graphics/SVG/1.1/DTD/svg11.dtd\">\r\n",
       "<!-- Generated by graphviz version 2.38.0 (20140413.2041)\r\n",
       " -->\r\n",
       "<!-- Title: Tree Pages: 1 -->\r\n",
       "<svg width=\"589pt\" height=\"401pt\"\r\n",
       " viewBox=\"0.00 0.00 589.00 401.00\" xmlns=\"http://www.w3.org/2000/svg\" xmlns:xlink=\"http://www.w3.org/1999/xlink\">\r\n",
       "<g id=\"graph0\" class=\"graph\" transform=\"scale(1 1) rotate(0) translate(4 397)\">\r\n",
       "<title>Tree</title>\r\n",
       "<polygon fill=\"white\" stroke=\"none\" points=\"-4,4 -4,-397 585,-397 585,4 -4,4\"/>\r\n",
       "<!-- 0 -->\r\n",
       "<g id=\"node1\" class=\"node\"><title>0</title>\r\n",
       "<polygon fill=\"none\" stroke=\"black\" points=\"360.5,-393 235.5,-393 235.5,-310 360.5,-310 360.5,-393\"/>\r\n",
       "<text text-anchor=\"middle\" x=\"298\" y=\"-377.8\" font-family=\"Times New Roman,serif\" font-size=\"14.00\">hillary &lt;= 0.5</text>\r\n",
       "<text text-anchor=\"middle\" x=\"298\" y=\"-362.8\" font-family=\"Times New Roman,serif\" font-size=\"14.00\">gini = 0.479</text>\r\n",
       "<text text-anchor=\"middle\" x=\"298\" y=\"-347.8\" font-family=\"Times New Roman,serif\" font-size=\"14.00\">samples = 2287</text>\r\n",
       "<text text-anchor=\"middle\" x=\"298\" y=\"-332.8\" font-family=\"Times New Roman,serif\" font-size=\"14.00\">value = [909, 1378]</text>\r\n",
       "<text text-anchor=\"middle\" x=\"298\" y=\"-317.8\" font-family=\"Times New Roman,serif\" font-size=\"14.00\">class = Real</text>\r\n",
       "</g>\r\n",
       "<!-- 1 -->\r\n",
       "<g id=\"node2\" class=\"node\"><title>1</title>\r\n",
       "<polygon fill=\"none\" stroke=\"black\" points=\"292.5,-274 167.5,-274 167.5,-191 292.5,-191 292.5,-274\"/>\r\n",
       "<text text-anchor=\"middle\" x=\"230\" y=\"-258.8\" font-family=\"Times New Roman,serif\" font-size=\"14.00\">the &lt;= 0.5</text>\r\n",
       "<text text-anchor=\"middle\" x=\"230\" y=\"-243.8\" font-family=\"Times New Roman,serif\" font-size=\"14.00\">gini = 0.466</text>\r\n",
       "<text text-anchor=\"middle\" x=\"230\" y=\"-228.8\" font-family=\"Times New Roman,serif\" font-size=\"14.00\">samples = 2161</text>\r\n",
       "<text text-anchor=\"middle\" x=\"230\" y=\"-213.8\" font-family=\"Times New Roman,serif\" font-size=\"14.00\">value = [800, 1361]</text>\r\n",
       "<text text-anchor=\"middle\" x=\"230\" y=\"-198.8\" font-family=\"Times New Roman,serif\" font-size=\"14.00\">class = Real</text>\r\n",
       "</g>\r\n",
       "<!-- 0&#45;&gt;1 -->\r\n",
       "<g id=\"edge1\" class=\"edge\"><title>0&#45;&gt;1</title>\r\n",
       "<path fill=\"none\" stroke=\"black\" d=\"M274.408,-309.907C269.344,-301.195 263.94,-291.897 258.707,-282.893\"/>\r\n",
       "<polygon fill=\"black\" stroke=\"black\" points=\"261.602,-280.908 253.551,-274.021 255.549,-284.425 261.602,-280.908\"/>\r\n",
       "<text text-anchor=\"middle\" x=\"247.15\" y=\"-294.487\" font-family=\"Times New Roman,serif\" font-size=\"14.00\">True</text>\r\n",
       "</g>\r\n",
       "<!-- 754 -->\r\n",
       "<g id=\"node9\" class=\"node\"><title>754</title>\r\n",
       "<polygon fill=\"none\" stroke=\"black\" points=\"421.5,-274 310.5,-274 310.5,-191 421.5,-191 421.5,-274\"/>\r\n",
       "<text text-anchor=\"middle\" x=\"366\" y=\"-258.8\" font-family=\"Times New Roman,serif\" font-size=\"14.00\">donald &lt;= 0.5</text>\r\n",
       "<text text-anchor=\"middle\" x=\"366\" y=\"-243.8\" font-family=\"Times New Roman,serif\" font-size=\"14.00\">gini = 0.233</text>\r\n",
       "<text text-anchor=\"middle\" x=\"366\" y=\"-228.8\" font-family=\"Times New Roman,serif\" font-size=\"14.00\">samples = 126</text>\r\n",
       "<text text-anchor=\"middle\" x=\"366\" y=\"-213.8\" font-family=\"Times New Roman,serif\" font-size=\"14.00\">value = [109, 17]</text>\r\n",
       "<text text-anchor=\"middle\" x=\"366\" y=\"-198.8\" font-family=\"Times New Roman,serif\" font-size=\"14.00\">class = Fake</text>\r\n",
       "</g>\r\n",
       "<!-- 0&#45;&gt;754 -->\r\n",
       "<g id=\"edge8\" class=\"edge\"><title>0&#45;&gt;754</title>\r\n",
       "<path fill=\"none\" stroke=\"black\" d=\"M321.592,-309.907C326.656,-301.195 332.06,-291.897 337.293,-282.893\"/>\r\n",
       "<polygon fill=\"black\" stroke=\"black\" points=\"340.451,-284.425 342.449,-274.021 334.398,-280.908 340.451,-284.425\"/>\r\n",
       "<text text-anchor=\"middle\" x=\"348.85\" y=\"-294.487\" font-family=\"Times New Roman,serif\" font-size=\"14.00\">False</text>\r\n",
       "</g>\r\n",
       "<!-- 2 -->\r\n",
       "<g id=\"node3\" class=\"node\"><title>2</title>\r\n",
       "<polygon fill=\"none\" stroke=\"black\" points=\"159.5,-155 34.5,-155 34.5,-72 159.5,-72 159.5,-155\"/>\r\n",
       "<text text-anchor=\"middle\" x=\"97\" y=\"-139.8\" font-family=\"Times New Roman,serif\" font-size=\"14.00\">donald &lt;= 0.5</text>\r\n",
       "<text text-anchor=\"middle\" x=\"97\" y=\"-124.8\" font-family=\"Times New Roman,serif\" font-size=\"14.00\">gini = 0.424</text>\r\n",
       "<text text-anchor=\"middle\" x=\"97\" y=\"-109.8\" font-family=\"Times New Roman,serif\" font-size=\"14.00\">samples = 1816</text>\r\n",
       "<text text-anchor=\"middle\" x=\"97\" y=\"-94.8\" font-family=\"Times New Roman,serif\" font-size=\"14.00\">value = [553, 1263]</text>\r\n",
       "<text text-anchor=\"middle\" x=\"97\" y=\"-79.8\" font-family=\"Times New Roman,serif\" font-size=\"14.00\">class = Real</text>\r\n",
       "</g>\r\n",
       "<!-- 1&#45;&gt;2 -->\r\n",
       "<g id=\"edge2\" class=\"edge\"><title>1&#45;&gt;2</title>\r\n",
       "<path fill=\"none\" stroke=\"black\" d=\"M183.856,-190.907C173.128,-181.469 161.616,-171.343 150.597,-161.649\"/>\r\n",
       "<polygon fill=\"black\" stroke=\"black\" points=\"152.882,-158.998 143.062,-155.021 148.259,-164.254 152.882,-158.998\"/>\r\n",
       "</g>\r\n",
       "<!-- 605 -->\r\n",
       "<g id=\"node6\" class=\"node\"><title>605</title>\r\n",
       "<polygon fill=\"none\" stroke=\"black\" points=\"288.5,-155 177.5,-155 177.5,-72 288.5,-72 288.5,-155\"/>\r\n",
       "<text text-anchor=\"middle\" x=\"233\" y=\"-139.8\" font-family=\"Times New Roman,serif\" font-size=\"14.00\">trumps &lt;= 0.5</text>\r\n",
       "<text text-anchor=\"middle\" x=\"233\" y=\"-124.8\" font-family=\"Times New Roman,serif\" font-size=\"14.00\">gini = 0.407</text>\r\n",
       "<text text-anchor=\"middle\" x=\"233\" y=\"-109.8\" font-family=\"Times New Roman,serif\" font-size=\"14.00\">samples = 345</text>\r\n",
       "<text text-anchor=\"middle\" x=\"233\" y=\"-94.8\" font-family=\"Times New Roman,serif\" font-size=\"14.00\">value = [247, 98]</text>\r\n",
       "<text text-anchor=\"middle\" x=\"233\" y=\"-79.8\" font-family=\"Times New Roman,serif\" font-size=\"14.00\">class = Fake</text>\r\n",
       "</g>\r\n",
       "<!-- 1&#45;&gt;605 -->\r\n",
       "<g id=\"edge5\" class=\"edge\"><title>1&#45;&gt;605</title>\r\n",
       "<path fill=\"none\" stroke=\"black\" d=\"M231.041,-190.907C231.255,-182.558 231.483,-173.671 231.705,-165.02\"/>\r\n",
       "<polygon fill=\"black\" stroke=\"black\" points=\"235.203,-165.107 231.961,-155.021 228.206,-164.928 235.203,-165.107\"/>\r\n",
       "</g>\r\n",
       "<!-- 3 -->\r\n",
       "<g id=\"node4\" class=\"node\"><title>3</title>\r\n",
       "<polygon fill=\"none\" stroke=\"black\" points=\"54,-36 0,-36 0,-0 54,-0 54,-36\"/>\r\n",
       "<text text-anchor=\"middle\" x=\"27\" y=\"-14.3\" font-family=\"Times New Roman,serif\" font-size=\"14.00\">(...)</text>\r\n",
       "</g>\r\n",
       "<!-- 2&#45;&gt;3 -->\r\n",
       "<g id=\"edge3\" class=\"edge\"><title>2&#45;&gt;3</title>\r\n",
       "<path fill=\"none\" stroke=\"black\" d=\"M66.5006,-71.7615C59.6098,-62.5574 52.4824,-53.0372 46.2107,-44.6601\"/>\r\n",
       "<polygon fill=\"black\" stroke=\"black\" points=\"48.8255,-42.3126 40.0306,-36.4051 43.2219,-46.5079 48.8255,-42.3126\"/>\r\n",
       "</g>\r\n",
       "<!-- 466 -->\r\n",
       "<g id=\"node5\" class=\"node\"><title>466</title>\r\n",
       "<polygon fill=\"none\" stroke=\"black\" points=\"126,-36 72,-36 72,-0 126,-0 126,-36\"/>\r\n",
       "<text text-anchor=\"middle\" x=\"99\" y=\"-14.3\" font-family=\"Times New Roman,serif\" font-size=\"14.00\">(...)</text>\r\n",
       "</g>\r\n",
       "<!-- 2&#45;&gt;466 -->\r\n",
       "<g id=\"edge4\" class=\"edge\"><title>2&#45;&gt;466</title>\r\n",
       "<path fill=\"none\" stroke=\"black\" d=\"M97.8714,-71.7615C98.0538,-63.2356 98.242,-54.4385 98.4111,-46.5299\"/>\r\n",
       "<polygon fill=\"black\" stroke=\"black\" points=\"101.913,-46.4777 98.6277,-36.4051 94.9145,-46.3279 101.913,-46.4777\"/>\r\n",
       "</g>\r\n",
       "<!-- 606 -->\r\n",
       "<g id=\"node7\" class=\"node\"><title>606</title>\r\n",
       "<polygon fill=\"none\" stroke=\"black\" points=\"211,-36 157,-36 157,-0 211,-0 211,-36\"/>\r\n",
       "<text text-anchor=\"middle\" x=\"184\" y=\"-14.3\" font-family=\"Times New Roman,serif\" font-size=\"14.00\">(...)</text>\r\n",
       "</g>\r\n",
       "<!-- 605&#45;&gt;606 -->\r\n",
       "<g id=\"edge6\" class=\"edge\"><title>605&#45;&gt;606</title>\r\n",
       "<path fill=\"none\" stroke=\"black\" d=\"M211.65,-71.7615C206.979,-62.8481 202.153,-53.6382 197.865,-45.4571\"/>\r\n",
       "<polygon fill=\"black\" stroke=\"black\" points=\"200.863,-43.6378 193.121,-36.4051 194.663,-46.8872 200.863,-43.6378\"/>\r\n",
       "</g>\r\n",
       "<!-- 751 -->\r\n",
       "<g id=\"node8\" class=\"node\"><title>751</title>\r\n",
       "<polygon fill=\"none\" stroke=\"black\" points=\"283,-36 229,-36 229,-0 283,-0 283,-36\"/>\r\n",
       "<text text-anchor=\"middle\" x=\"256\" y=\"-14.3\" font-family=\"Times New Roman,serif\" font-size=\"14.00\">(...)</text>\r\n",
       "</g>\r\n",
       "<!-- 605&#45;&gt;751 -->\r\n",
       "<g id=\"edge7\" class=\"edge\"><title>605&#45;&gt;751</title>\r\n",
       "<path fill=\"none\" stroke=\"black\" d=\"M243.021,-71.7615C245.142,-63.1387 247.332,-54.2385 249.294,-46.2606\"/>\r\n",
       "<polygon fill=\"black\" stroke=\"black\" points=\"252.728,-46.9517 251.719,-36.4051 245.931,-45.2796 252.728,-46.9517\"/>\r\n",
       "</g>\r\n",
       "<!-- 755 -->\r\n",
       "<g id=\"node10\" class=\"node\"><title>755</title>\r\n",
       "<polygon fill=\"none\" stroke=\"black\" points=\"413.5,-155 312.5,-155 312.5,-72 413.5,-72 413.5,-155\"/>\r\n",
       "<text text-anchor=\"middle\" x=\"363\" y=\"-139.8\" font-family=\"Times New Roman,serif\" font-size=\"14.00\">savages &lt;= 0.5</text>\r\n",
       "<text text-anchor=\"middle\" x=\"363\" y=\"-124.8\" font-family=\"Times New Roman,serif\" font-size=\"14.00\">gini = 0.064</text>\r\n",
       "<text text-anchor=\"middle\" x=\"363\" y=\"-109.8\" font-family=\"Times New Roman,serif\" font-size=\"14.00\">samples = 91</text>\r\n",
       "<text text-anchor=\"middle\" x=\"363\" y=\"-94.8\" font-family=\"Times New Roman,serif\" font-size=\"14.00\">value = [88, 3]</text>\r\n",
       "<text text-anchor=\"middle\" x=\"363\" y=\"-79.8\" font-family=\"Times New Roman,serif\" font-size=\"14.00\">class = Fake</text>\r\n",
       "</g>\r\n",
       "<!-- 754&#45;&gt;755 -->\r\n",
       "<g id=\"edge9\" class=\"edge\"><title>754&#45;&gt;755</title>\r\n",
       "<path fill=\"none\" stroke=\"black\" d=\"M364.959,-190.907C364.745,-182.558 364.517,-173.671 364.295,-165.02\"/>\r\n",
       "<polygon fill=\"black\" stroke=\"black\" points=\"367.794,-164.928 364.039,-155.021 360.797,-165.107 367.794,-164.928\"/>\r\n",
       "</g>\r\n",
       "<!-- 766 -->\r\n",
       "<g id=\"node13\" class=\"node\"><title>766</title>\r\n",
       "<polygon fill=\"none\" stroke=\"black\" points=\"536,-155 432,-155 432,-72 536,-72 536,-155\"/>\r\n",
       "<text text-anchor=\"middle\" x=\"484\" y=\"-139.8\" font-family=\"Times New Roman,serif\" font-size=\"14.00\">a &lt;= 0.5</text>\r\n",
       "<text text-anchor=\"middle\" x=\"484\" y=\"-124.8\" font-family=\"Times New Roman,serif\" font-size=\"14.00\">gini = 0.48</text>\r\n",
       "<text text-anchor=\"middle\" x=\"484\" y=\"-109.8\" font-family=\"Times New Roman,serif\" font-size=\"14.00\">samples = 35</text>\r\n",
       "<text text-anchor=\"middle\" x=\"484\" y=\"-94.8\" font-family=\"Times New Roman,serif\" font-size=\"14.00\">value = [21, 14]</text>\r\n",
       "<text text-anchor=\"middle\" x=\"484\" y=\"-79.8\" font-family=\"Times New Roman,serif\" font-size=\"14.00\">class = Fake</text>\r\n",
       "</g>\r\n",
       "<!-- 754&#45;&gt;766 -->\r\n",
       "<g id=\"edge12\" class=\"edge\"><title>754&#45;&gt;766</title>\r\n",
       "<path fill=\"none\" stroke=\"black\" d=\"M406.94,-190.907C416.275,-181.651 426.279,-171.732 435.883,-162.209\"/>\r\n",
       "<polygon fill=\"black\" stroke=\"black\" points=\"438.496,-164.547 443.133,-155.021 433.567,-159.576 438.496,-164.547\"/>\r\n",
       "</g>\r\n",
       "<!-- 756 -->\r\n",
       "<g id=\"node11\" class=\"node\"><title>756</title>\r\n",
       "<polygon fill=\"none\" stroke=\"black\" points=\"362,-36 308,-36 308,-0 362,-0 362,-36\"/>\r\n",
       "<text text-anchor=\"middle\" x=\"335\" y=\"-14.3\" font-family=\"Times New Roman,serif\" font-size=\"14.00\">(...)</text>\r\n",
       "</g>\r\n",
       "<!-- 755&#45;&gt;756 -->\r\n",
       "<g id=\"edge10\" class=\"edge\"><title>755&#45;&gt;756</title>\r\n",
       "<path fill=\"none\" stroke=\"black\" d=\"M350.8,-71.7615C348.189,-63.0419 345.493,-54.0385 343.083,-45.9921\"/>\r\n",
       "<polygon fill=\"black\" stroke=\"black\" points=\"346.434,-44.9807 340.212,-36.4051 339.728,-46.9889 346.434,-44.9807\"/>\r\n",
       "</g>\r\n",
       "<!-- 765 -->\r\n",
       "<g id=\"node12\" class=\"node\"><title>765</title>\r\n",
       "<polygon fill=\"none\" stroke=\"black\" points=\"434,-36 380,-36 380,-0 434,-0 434,-36\"/>\r\n",
       "<text text-anchor=\"middle\" x=\"407\" y=\"-14.3\" font-family=\"Times New Roman,serif\" font-size=\"14.00\">(...)</text>\r\n",
       "</g>\r\n",
       "<!-- 755&#45;&gt;765 -->\r\n",
       "<g id=\"edge11\" class=\"edge\"><title>755&#45;&gt;765</title>\r\n",
       "<path fill=\"none\" stroke=\"black\" d=\"M382.171,-71.7615C386.366,-62.8481 390.7,-53.6382 394.55,-45.4571\"/>\r\n",
       "<polygon fill=\"black\" stroke=\"black\" points=\"397.718,-46.9436 398.809,-36.4051 391.384,-43.963 397.718,-46.9436\"/>\r\n",
       "</g>\r\n",
       "<!-- 767 -->\r\n",
       "<g id=\"node14\" class=\"node\"><title>767</title>\r\n",
       "<polygon fill=\"none\" stroke=\"black\" points=\"509,-36 455,-36 455,-0 509,-0 509,-36\"/>\r\n",
       "<text text-anchor=\"middle\" x=\"482\" y=\"-14.3\" font-family=\"Times New Roman,serif\" font-size=\"14.00\">(...)</text>\r\n",
       "</g>\r\n",
       "<!-- 766&#45;&gt;767 -->\r\n",
       "<g id=\"edge13\" class=\"edge\"><title>766&#45;&gt;767</title>\r\n",
       "<path fill=\"none\" stroke=\"black\" d=\"M483.129,-71.7615C482.946,-63.2356 482.758,-54.4385 482.589,-46.5299\"/>\r\n",
       "<polygon fill=\"black\" stroke=\"black\" points=\"486.085,-46.3279 482.372,-36.4051 479.087,-46.4777 486.085,-46.3279\"/>\r\n",
       "</g>\r\n",
       "<!-- 788 -->\r\n",
       "<g id=\"node15\" class=\"node\"><title>788</title>\r\n",
       "<polygon fill=\"none\" stroke=\"black\" points=\"581,-36 527,-36 527,-0 581,-0 581,-36\"/>\r\n",
       "<text text-anchor=\"middle\" x=\"554\" y=\"-14.3\" font-family=\"Times New Roman,serif\" font-size=\"14.00\">(...)</text>\r\n",
       "</g>\r\n",
       "<!-- 766&#45;&gt;788 -->\r\n",
       "<g id=\"edge14\" class=\"edge\"><title>766&#45;&gt;788</title>\r\n",
       "<path fill=\"none\" stroke=\"black\" d=\"M514.499,-71.7615C521.39,-62.5574 528.518,-53.0372 534.789,-44.6601\"/>\r\n",
       "<polygon fill=\"black\" stroke=\"black\" points=\"537.778,-46.5079 540.969,-36.4051 532.174,-42.3126 537.778,-46.5079\"/>\r\n",
       "</g>\r\n",
       "</g>\r\n",
       "</svg>\r\n"
      ],
      "text/plain": [
       "<graphviz.files.Source at 0x2193f73d550>"
      ]
     },
     "execution_count": 9,
     "metadata": {},
     "output_type": "execute_result"
    }
   ],
   "source": [
    "import graphviz \n",
    "classifer.fit(x_trs, y_trs)\n",
    "#export_graphviz(classifer, out_file='tree.dot',feature_names=words_features,class_names=[\"Fake\",\"Real\"],max_depth=2)\n",
    "dot_data = export_graphviz(classifer, out_file=None,feature_names=words_features,class_names=[\"Fake\",\"Real\"],max_depth=2)\n",
    "graph = graphviz.Source(dot_data)  \n",
    "graph"
   ]
  },
  {
   "cell_type": "markdown",
   "metadata": {},
   "source": [
    "## Part 8"
   ]
  },
  {
   "cell_type": "code",
   "execution_count": 10,
   "metadata": {
    "collapsed": true
   },
   "outputs": [],
   "source": [
    "#I(Y,xi)=H(Y)-H(Y|xi) where Y is 0 or 1 (real or fake) and xi is the keyword for first split\n",
    "#H(Y)=P(real)log2P(real)+P(fake)log2P(fake)\n",
    "#H(Y|xi)=P(have xi)[-P(real|havexi)log2P(real|havexi)-P(fake|havexi)log2P(fake|havexi)] + P(doesn't havexi)[etc.]\n",
    "def entropy(V):\n",
    "    sum=0\n",
    "    for v in V:\n",
    "        sum-=v*math.log(v,2)\n",
    "    return sum\n",
    "\n",
    "def mutual_info(xi):\n",
    "    num_total=len(x_trs)\n",
    "    num_real=np.count_nonzero(y_trs)\n",
    "    num_fake=num_total-num_real\n",
    "    num_havexi=np.count_nonzero(np.array(x_trs)[:,features_words[xi]])\n",
    "    num_not_havexi=num_total-num_havexi\n",
    "    num_real_havexi=np.count_nonzero(np.array(x_trs)[:,features_words[xi]]*np.array(y_trs))\n",
    "    num_fake_havexi=num_havexi-num_real_havexi\n",
    "    num_real_not_havexi=num_real-num_real_havexi\n",
    "    num_fake_not_havexi=num_not_havexi-num_real_not_havexi\n",
    "    HY=entropy([num_real/num_total,num_fake/num_total])\n",
    "    HYxi=(num_havexi/num_total)*entropy([num_real_havexi/num_havexi,num_fake_havexi/num_havexi])\n",
    "    HYxi+=(num_not_havexi/num_total)*entropy([num_real_not_havexi/num_not_havexi,num_fake_not_havexi/num_not_havexi])\n",
    "    IYxi=HY-HYxi\n",
    "    \n",
    "    return IYxi"
   ]
  },
  {
   "cell_type": "code",
   "execution_count": 14,
   "metadata": {},
   "outputs": [
    {
     "name": "stdout",
     "output_type": "stream",
     "text": [
      "Top most keyword ( hillary ): 0.03956116386393127\n",
      "Another keyword ( election ): 0.00113715241004686\n"
     ]
    }
   ],
   "source": [
    "word_top_most_split=words_features[classifer.tree_.feature[0]]\n",
    "print (\"Top most keyword (\",word_top_most_split,\"):\", mutual_info(word_top_most_split))\n",
    "print (\"Another keyword ( election ):\", mutual_info('election'))"
   ]
  }
 ],
 "metadata": {
  "kernelspec": {
   "display_name": "Python 3",
   "language": "python",
   "name": "python3"
  },
  "language_info": {
   "codemirror_mode": {
    "name": "ipython",
    "version": 3
   },
   "file_extension": ".py",
   "mimetype": "text/x-python",
   "name": "python",
   "nbconvert_exporter": "python",
   "pygments_lexer": "ipython3",
   "version": "3.6.1"
  }
 },
 "nbformat": 4,
 "nbformat_minor": 2
}
