{
 "cells": [
  {
   "cell_type": "code",
   "execution_count": 1,
   "metadata": {
    "collapsed": true
   },
   "outputs": [],
   "source": [
    "import random\n",
    "import numpy as np\n",
    "import math"
   ]
  },
  {
   "cell_type": "code",
   "execution_count": null,
   "metadata": {},
   "outputs": [],
   "source": [
    "#prepare datasets\n",
    "#designate 0 = fake, 1 = real for our labels\n",
    "\n",
    "fake_data = \"clean_fake.txt\"\n",
    "real_data = \"clean_real.txt\"\n",
    "\n",
    "fake = []\n",
    "for line in open(fake_data):\n",
    "    l = line.rstrip('\\n').split()\n",
    "    fake.append(l)\n",
    "    \n",
    "real = []\n",
    "for line in open(real_data):\n",
    "    l = line.rstrip('\\n').split()\n",
    "    real.append(l)\n",
    "    \n",
    "random.seed(1)\n",
    "random.shuffle(fake)\n",
    "random.seed(1)\n",
    "random.shuffle(real)\n",
    "\n",
    "train_set, valid_set, test_set = [], [], []\n",
    "train_label, valid_label, test_label = [], [], []\n",
    "\n",
    "for i in range(len(fake)):\n",
    "    if i < 0.7*len(fake):\n",
    "        train_set.append(fake[i])\n",
    "        train_label.append(0)\n",
    "    elif i < 0.85*len(fake):\n",
    "        valid_set.append(fake[i])\n",
    "        valid_label.append(0)\n",
    "    else:\n",
    "        test_set.append(fake[i])\n",
    "        test_label.append(0)\n",
    "\n",
    "for i in range(len(real)):\n",
    "    if i < 0.7*len(real):\n",
    "        train_set.append(real[i])\n",
    "        train_label.append(1)\n",
    "    elif i < 0.85*len(real):\n",
    "        valid_set.append(real[i])\n",
    "        valid_label.append(1)\n",
    "    else:\n",
    "        test_set.append(real[i])\n",
    "        test_label.append(1)\n",
    "        \n",
    "        \n",
    "#\n",
    "from sklearn.feature_extraction.text import ENGLISH_STOP_WORDS  \n",
    "def remove_stop(some_set):\n",
    "    for example in some_set:\n",
    "        for word in example:\n",
    "            if word in ENGLISH_STOP_WORDS:\n",
    "                example.remove(word)\n",
    "    return some_set\n",
    "                \n",
    "# train_set = remove_stop(train_set)\n",
    "# valid_set = remove_stop(valid_set)\n",
    "# test_set = remove_stop(test_set)\n",
    "\n",
    "        \n",
    "#construct word frequency dictionary, \n",
    "#word_freq = {some_word, (num_label=0, num_label=1)}\n",
    "word_freq = {}\n",
    "for i in range(len(train_set)):\n",
    "    unique_words = set(train_set[i])\n",
    "    for word in unique_words:\n",
    "        if word in word_freq:\n",
    "            if train_label[i] == 0: \n",
    "                word_freq[word] = (word_freq[word][0]+1, word_freq[word][1])\n",
    "            elif train_label[i] == 1: \n",
    "                word_freq[word] = (word_freq[word][0], word_freq[word][1]+1)\n",
    "        else:\n",
    "            if train_label[i] == 0: \n",
    "                word_freq[word] = (1, 0)\n",
    "            elif train_label[i] == 1: \n",
    "                word_freq[word] = (0, 1)\n",
    "                \n",
    "                \n",
    "#construct dictionary with each word having a unique label\n",
    "word_dict = {}\n",
    "i = 0\n",
    "all_sets = train_set + valid_set + test_set\n",
    "for sentence in all_sets:\n",
    "    for word in sentence:\n",
    "        if word not in word_dict:\n",
    "            word_dict[word] = i\n",
    "            i += 1\n",
    "\n",
    "#convert each set to np matrices and vectors\n",
    "def convert_to_mat(my_set, my_label, word_dict):\n",
    "    num_unique_words = len(word_dict)\n",
    "    mat_set = np.zeros((len(my_set), num_unique_words))\n",
    "    vec_label = np.asarray(my_label).reshape((len(my_label),1))\n",
    "    #not_vec_label = 1 - vec_label\n",
    "    #vec_label = np.hstack((not_vec_label,vec_label))\n",
    "    \n",
    "    for i in range(len(my_set)):\n",
    "        for word in my_set[i]:\n",
    "            mat_set[i][word_dict[word]] = 1\n",
    "            \n",
    "    return mat_set, vec_label\n",
    "        "
   ]
  },
  {
   "cell_type": "code",
   "execution_count": null,
   "metadata": {},
   "outputs": [],
   "source": [
    "x_train, y_train = convert_to_mat(train_set, train_label, word_dict)\n",
    "x_valid, y_valid = convert_to_mat(valid_set, valid_label, word_dict)\n",
    "x_test, y_test = convert_to_mat(test_set, test_label, word_dict)\n",
    "print x_train.shape\n",
    "print y_train.shape\n",
    "print x_valid.shape\n",
    "print y_valid.shape\n",
    "print x_test.shape\n",
    "print y_test.shape"
   ]
  },
  {
   "cell_type": "code",
   "execution_count": null,
   "metadata": {
    "collapsed": true
   },
   "outputs": [],
   "source": [
    "from sklearn.ensemble import RandomForestClassifier\n",
    "from sklearn.metrics import accuracy_score"
   ]
  },
  {
   "cell_type": "code",
   "execution_count": null,
   "metadata": {},
   "outputs": [],
   "source": [
    "clf = RandomForestClassifier(n_estimators=13)\n",
    "clf.fit(x_train, y_train)\n",
    "\n",
    "y_pred = clf.predict(x_valid)\n",
    "print 'validation ', accuracy_score(y_valid, y_pred)\n",
    "\n",
    "y_pred = clf.predict(x_test)\n",
    "print 'test ', accuracy_score(y_test, y_pred)"
   ]
  },
  {
   "cell_type": "code",
   "execution_count": 26,
   "metadata": {},
   "outputs": [
    {
     "data": {
      "text/plain": [
       "0.80204081632653057"
      ]
     },
     "execution_count": 26,
     "metadata": {},
     "output_type": "execute_result"
    }
   ],
   "source": []
  },
  {
   "cell_type": "code",
   "execution_count": 27,
   "metadata": {},
   "outputs": [
    {
     "data": {
      "text/plain": [
       "0.80981595092024539"
      ]
     },
     "execution_count": 27,
     "metadata": {},
     "output_type": "execute_result"
    }
   ],
   "source": []
  },
  {
   "cell_type": "code",
   "execution_count": 17,
   "metadata": {},
   "outputs": [
    {
     "name": "stdout",
     "output_type": "stream",
     "text": [
      "validation  0.818367346939\n",
      "test  0.844580777096\n"
     ]
    }
   ],
   "source": [
    "from sklearn.naive_bayes import MultinomialNB\n",
    "clf = MultinomialNB(alpha=0.65)\n",
    "clf.fit(x_train, y_train)\n",
    "\n",
    "y_pred = clf.predict(x_valid)\n",
    "print 'validation ', accuracy_score(y_valid, y_pred)\n",
    "\n",
    "y_pred = clf.predict(x_test)\n",
    "print 'test ', accuracy_score(y_test, y_pred)\n"
   ]
  },
  {
   "cell_type": "code",
   "execution_count": 18,
   "metadata": {},
   "outputs": [
    {
     "name": "stdout",
     "output_type": "stream",
     "text": [
      "validation  0.795918367347\n",
      "test  0.838445807771\n"
     ]
    }
   ],
   "source": [
    "from sklearn.neural_network import MLPClassifier\n",
    "clf = MLPClassifier(solver='lbfgs', alpha=1e-5, hidden_layer_sizes=(100, 30), random_state=1)\n",
    "clf.fit(x_train, y_train)   \n",
    "\n",
    "y_pred = clf.predict(x_valid)\n",
    "print 'validation ', accuracy_score(y_valid, y_pred)\n",
    "\n",
    "y_pred = clf.predict(x_test)\n",
    "print 'test ', accuracy_score(y_test, y_pred)\n"
   ]
  },
  {
   "cell_type": "code",
   "execution_count": 8,
   "metadata": {},
   "outputs": [
    {
     "name": "stderr",
     "output_type": "stream",
     "text": [
      "/Users/christophertzefungchan/anaconda2/envs/csc411env/lib/python2.7/site-packages/ipykernel_launcher.py:3: DataConversionWarning: A column-vector y was passed when a 1d array was expected. Please change the shape of y to (n_samples,), for example using ravel().\n",
      "  This is separate from the ipykernel package so we can avoid doing imports until\n"
     ]
    },
    {
     "name": "stdout",
     "output_type": "stream",
     "text": [
      "validation  0.812244897959\n",
      "test  0.826175869121\n"
     ]
    }
   ],
   "source": [
    "from sklearn.ensemble import ExtraTreesClassifier\n",
    "clf = ExtraTreesClassifier(n_estimators=20, max_depth=None,min_samples_split=2, random_state=0)\n",
    "clf.fit(x_train, y_train)   \n",
    "\n",
    "y_pred = clf.predict(x_valid)\n",
    "print 'validation ', accuracy_score(y_valid, y_pred)\n",
    "\n",
    "y_pred = clf.predict(x_test)\n",
    "print 'test ', accuracy_score(y_test, y_pred)\n"
   ]
  },
  {
   "cell_type": "code",
   "execution_count": 19,
   "metadata": {},
   "outputs": [
    {
     "name": "stderr",
     "output_type": "stream",
     "text": [
      "/Users/christophertzefungchan/anaconda2/envs/csc411env/lib/python2.7/site-packages/sklearn/linear_model/stochastic_gradient.py:117: DeprecationWarning: n_iter parameter is deprecated in 0.19 and will be removed in 0.21. Use max_iter and tol instead.\n",
      "  DeprecationWarning)\n"
     ]
    },
    {
     "name": "stdout",
     "output_type": "stream",
     "text": [
      "validation  0.795918367347\n",
      "test  0.811860940695\n"
     ]
    }
   ],
   "source": [
    "from sklearn.linear_model import PassiveAggressiveClassifier\n",
    "clf = PassiveAggressiveClassifier(n_iter=30,random_state=0)\n",
    "clf.fit(x_train, y_train)   \n",
    "\n",
    "y_pred = clf.predict(x_valid)\n",
    "print 'validation ', accuracy_score(y_valid, y_pred)\n",
    "\n",
    "y_pred = clf.predict(x_test)\n",
    "print 'test ', accuracy_score(y_test, y_pred)"
   ]
  },
  {
   "cell_type": "code",
   "execution_count": null,
   "metadata": {},
   "outputs": [],
   "source": [
    "from sklearn import svm\n",
    "clf = svm.SVC()\n",
    "clf.fit(x_train, y_train)   \n",
    "\n",
    "y_pred = clf.predict(x_valid)\n",
    "print 'validation ', accuracy_score(y_valid, y_pred)\n",
    "\n",
    "y_pred = clf.predict(x_test)\n",
    "print 'test ', accuracy_score(y_test, y_pred)"
   ]
  },
  {
   "cell_type": "code",
   "execution_count": null,
   "metadata": {
    "collapsed": true
   },
   "outputs": [],
   "source": []
  }
 ],
 "metadata": {
  "kernelspec": {
   "display_name": "Python 2",
   "language": "python",
   "name": "python2"
  },
  "language_info": {
   "codemirror_mode": {
    "name": "ipython",
    "version": 2
   },
   "file_extension": ".py",
   "mimetype": "text/x-python",
   "name": "python",
   "nbconvert_exporter": "python",
   "pygments_lexer": "ipython2",
   "version": "2.7.14"
  }
 },
 "nbformat": 4,
 "nbformat_minor": 2
}
